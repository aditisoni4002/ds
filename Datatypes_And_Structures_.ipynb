{
  "nbformat": 4,
  "nbformat_minor": 0,
  "metadata": {
    "colab": {
      "provenance": []
    },
    "kernelspec": {
      "name": "python3",
      "display_name": "Python 3"
    },
    "language_info": {
      "name": "python"
    }
  },
  "cells": [
    {
      "cell_type": "markdown",
      "source": [
        "# Data Types And Structures Questions And Answers\n",
        "\n",
        "\n",
        "\n",
        "\n",
        "1. What are data structures, and why are they important?\n",
        "- Data structures are ways of organizing and storing data in a computer so that it can be accessed and modified efficiently. They are important because the choice of data structure can significantly impact the performance and efficiency of an algorithm or program.\n",
        "\n",
        "\n",
        "\n",
        "2. Explain the difference between mutable and immutable data types with examples?\n",
        "- Mutable data types can be changed after they are created. Examples include lists, dictionaries, and sets.\n",
        "\n",
        "\n",
        "    my_list = [1, 2, 3]                                                       \n",
        "    my_list.append(4) # my_list is now [1, 2, 3, 4]\n",
        "\n",
        "- Immutable data types cannot be changed after they are created. Examples include strings, tuples, and numbers.\n",
        "\n",
        "\n",
        "     my_string = \"hello\"\n",
        "     my_string[0] = \"H\" # This would raise an error\n",
        "\n",
        "\n",
        "3. What are the main differences between lists and tuples in Python?\n",
        "- Mutability: Lists are mutable, while tuples are immutable.\n",
        "\n",
        "- Syntax:\n",
        "  \n",
        "   Lists are defined using square brackets [ ], while tuples are defined using parentheses ( ).\n",
        "\n",
        "- Use cases:\n",
        "\n",
        "  Lists are generally used for collections of items that might change, while tuples are used for collections of items that should not change (e.g., coordinates, database records).\n",
        "\n",
        "4. Describe how dictionaries store data?\n",
        "- Dictionaries store data as key-value pairs. Each key must be unique and immutable, and it maps to a corresponding value. Dictionaries are unordered in versions of Python prior to 3.7, meaning the order of items is not guaranteed.\n",
        "\n",
        "\n",
        "5. Why might you use a set instead of a list in Python?\n",
        "- You might use a set instead of a list when you need:\n",
        " - To store a collection of unique elements (sets automatically handle duplicates).\n",
        "\n",
        " - Efficient membership testing (checking if an element is in the collection).\n",
        "\n",
        " - Set operations like union, intersection, and difference.\n",
        "\n",
        "6. What is a string in Python, and how is it different from a list?\n",
        "- A string in Python is a sequence of characters. While both strings and lists are sequences and can be iterated over, the main difference is that strings are immutable, while lists are mutable. Strings are specifically designed for text data.\n",
        "\n",
        "7. How do tuples ensure data integrity in Python?\n",
        "- Tuples ensure data integrity because they are immutable. Once a tuple is created, its elements cannot be changed. This prevents accidental modification of data that should remain constant.\n",
        "\n",
        "8. What is a hash table, and how does it relate to dictionaries in Python?\n",
        "- A hash table (or hash map) is a data structure that implements an associative array, mapping keys to values. Dictionaries in Python are implemented using hash tables. Hash tables provide fast average-case time complexity for operations like insertion, deletion, and lookup.\n",
        "\n",
        "\n",
        "9. Can lists contain different data types in Python?\n",
        "- Yes, lists in Python can contain elements of different data types.\n",
        "     \n",
        "       my_mixed_list = [1, \"hello\", 3.14, True]\n",
        "\n",
        "\n",
        "10. Explain why strings are immutable in Python?\n",
        "- Strings are immutable in Python because it allows for certain optimizations and ensures that string objects can be safely shared and reused. Immutability also makes strings hashable, which is necessary for them to be used as keys in dictionaries or elements in sets.\n",
        "\n",
        "\n",
        "11. What advantages do dictionaries offer over lists for certain tasks?\n",
        "- Dictionaries offer advantages over lists when you need to:\n",
        "\n",
        " - Access data by a key rather than an index.\n",
        "\n",
        " - Store relationships between data (key-value pairs).\n",
        "\n",
        " - Perform fast lookups based on a key.\n",
        "\n",
        "\n",
        "12. How do sets handle duplicate values in Python?\n",
        "- Sets automatically remove duplicate values. When you add duplicate elements to a set, only one instance of the element will be stored.\n",
        "\n",
        "\n",
        "13. Describe a scenario where using a tuple would be preferable over a list.\n",
        "- A scenario where using a tuple would be preferable over a list is when representing a point in a 2D or 3D space, like coordinates (x, y) or (x, y, z). These coordinates should not change, so using an immutable tuple ensures data integrity.\n",
        "\n",
        "\n",
        "14. How does the “in” keyword work differently for lists and dictionaries?\n",
        "- For lists, the in keyword checks if an element is present among the values in the list.\n",
        "\n",
        "- For dictionaries, the in keyword checks if a key is present in the dictionary. To check if a value is present, you would use value in dictionary.values().\n",
        "\n",
        "15. Can you modify the elements of a tuple? Explain why or why not?\n",
        "- No, you cannot modify the elements of a tuple because tuples are immutable. Once a tuple is created, its contents cannot be changed.\n",
        "\n",
        "\n",
        "16. What is a nested dictionary, and give an example of its use case?\n",
        "- A nested dictionary is a dictionary where the values are themselves dictionaries. A common use case is to represent hierarchical data, such as a JSON-like structure.\n",
        "\n",
        "        student_data = {        \n",
        "        \"student1\": {    \n",
        "       \"name\": \"Alice\",    \n",
        "       \"major\": \"Computer Science\",    \n",
        "       \"gpa\": 3.8     \n",
        "        },           \n",
        "        \"student2\": {       \n",
        "        \"name\": \"Bob\",        \n",
        "        \"major\": \"Physics\",     \n",
        "        \"gpa\": 3.5       \n",
        "        }          \n",
        "      }\n",
        "\n",
        "17. Describe the time complexity of accessing elements in a dictionary?\n",
        "- In the average case, accessing elements in a dictionary by key has a time complexity of O(1) (constant time). In the worst case (due to hash collisions), it can be O(n) (linear time), but this is rare with a good hash function.\n",
        "\n",
        "18. In what situations are lists preferred over dictionaries?\n",
        "-  Lists are preferred over dictionaries when:\n",
        "\n",
        " - The order of elements is important.\n",
        "\n",
        " - You need to access elements by their position (index).\n",
        "\n",
        " - You have a collection of items where the relationship between items is not based on unique keys.\n",
        "\n",
        "19. Why are dictionaries considered unordered, and how does that affect data retrieval?\n",
        "- In Python versions prior to 3.7, dictionaries were considered unordered because the internal implementation did not guarantee that the order of elements would be preserved. This meant you couldn't rely on iterating through a dictionary in the order items were inserted. In Python 3.7 and later, dictionaries maintain insertion order. However, the concept of accessing elements by an ordered index (like in a list) does not apply to dictionaries; you always access elements by their key.\n",
        "\n",
        "\n",
        "20. Explain the difference between a list and a dictionary in terms of data retrieval.\n",
        "- Lists: Data is retrieved by its position or index in the sequence (e.g., my_list[0]).\n",
        "\n",
        "- Dictionaries: Data is retrieved by its associated key (e.g., my_dictionary[\"key\"])."
      ],
      "metadata": {
        "id": "Fh6V07jB1Z-m"
      }
    },
    {
      "cell_type": "code",
      "source": [
        "# 1. Write a code to create a string with your name and print it\n",
        "my_name = \"Aditi\"  # Replace \"Your Name\" with your actual name\n",
        "print(my_name)"
      ],
      "metadata": {
        "colab": {
          "base_uri": "https://localhost:8080/"
        },
        "id": "sI6doi6k4GCu",
        "outputId": "f6bb4952-086a-457a-a217-945a65491247"
      },
      "execution_count": 2,
      "outputs": [
        {
          "output_type": "stream",
          "name": "stdout",
          "text": [
            "Aditi\n"
          ]
        }
      ]
    },
    {
      "cell_type": "code",
      "source": [
        "# 2. Write a code to find the length of the string \"Hello World\"\n",
        "string_length = len(\"Hello World\")\n",
        "print(string_length)"
      ],
      "metadata": {
        "colab": {
          "base_uri": "https://localhost:8080/"
        },
        "id": "NJHILwe74Laa",
        "outputId": "2d411410-4b20-4307-ff76-283daf60a5f4"
      },
      "execution_count": 3,
      "outputs": [
        {
          "output_type": "stream",
          "name": "stdout",
          "text": [
            "11\n"
          ]
        }
      ]
    },
    {
      "cell_type": "code",
      "source": [
        "# 3. Write a code to slice the first 3 characters from the string \"Python Programming\"\n",
        "sliced_string = \"Python Programming\"[:3]\n",
        "print(sliced_string)"
      ],
      "metadata": {
        "colab": {
          "base_uri": "https://localhost:8080/"
        },
        "id": "ccyqMlJJ4LXM",
        "outputId": "89a8eb76-c2d5-4741-b1c8-55ce6fc2a4a0"
      },
      "execution_count": 4,
      "outputs": [
        {
          "output_type": "stream",
          "name": "stdout",
          "text": [
            "Pyt\n"
          ]
        }
      ]
    },
    {
      "cell_type": "code",
      "source": [
        "# 4. Write a code to convert the string \"hello\" to uppercase\n",
        "uppercase_string = \"hello\".upper()\n",
        "print(uppercase_string)"
      ],
      "metadata": {
        "colab": {
          "base_uri": "https://localhost:8080/"
        },
        "id": "niWYxltB4LUP",
        "outputId": "74de8032-0dee-4903-a8d6-da0c5c5695ac"
      },
      "execution_count": 5,
      "outputs": [
        {
          "output_type": "stream",
          "name": "stdout",
          "text": [
            "HELLO\n"
          ]
        }
      ]
    },
    {
      "cell_type": "code",
      "source": [
        "# 5. Write a code to replace the word \"apple\" with \"orange\" in the string \"I like apple\"\n",
        "replaced_string = \"I like apple\".replace(\"apple\", \"orange\")\n",
        "print(replaced_string)"
      ],
      "metadata": {
        "colab": {
          "base_uri": "https://localhost:8080/"
        },
        "id": "zIWBEXcl4LRd",
        "outputId": "2ebea6f6-6876-404f-f174-1c05abac94c0"
      },
      "execution_count": 6,
      "outputs": [
        {
          "output_type": "stream",
          "name": "stdout",
          "text": [
            "I like orange\n"
          ]
        }
      ]
    },
    {
      "cell_type": "code",
      "source": [
        "# 6. Write a code to create a list with numbers 1 to 5 and print it\n",
        "my_list = [1, 2, 3, 4, 5]\n",
        "print(my_list)"
      ],
      "metadata": {
        "colab": {
          "base_uri": "https://localhost:8080/"
        },
        "id": "HL2Uiwxs4LO4",
        "outputId": "2a51ae9e-432e-4ba6-ad83-24897745586d"
      },
      "execution_count": 7,
      "outputs": [
        {
          "output_type": "stream",
          "name": "stdout",
          "text": [
            "[1, 2, 3, 4, 5]\n"
          ]
        }
      ]
    },
    {
      "cell_type": "code",
      "source": [
        "# 7. Write a code to append the number 10 to the list [1, 2, 3, 4]\n",
        "list_to_append = [1, 2, 3, 4]\n",
        "list_to_append.append(10)\n",
        "print(list_to_append)"
      ],
      "metadata": {
        "colab": {
          "base_uri": "https://localhost:8080/"
        },
        "id": "lghX0Nrd4LMd",
        "outputId": "411b087a-4d8e-46b0-d4a6-1917c0df603e"
      },
      "execution_count": 8,
      "outputs": [
        {
          "output_type": "stream",
          "name": "stdout",
          "text": [
            "[1, 2, 3, 4, 10]\n"
          ]
        }
      ]
    },
    {
      "cell_type": "code",
      "source": [
        "# 8. Write a code to remove the number 3 from the list [1, 2, 3, 4, 5]\n",
        "list_to_remove = [1, 2, 3, 4, 5]\n",
        "list_to_remove.remove(3)\n",
        "print(list_to_remove)"
      ],
      "metadata": {
        "colab": {
          "base_uri": "https://localhost:8080/"
        },
        "id": "IH7KtN3a4LJ4",
        "outputId": "49750916-3e69-4e14-85f2-de5d3ee6fd84"
      },
      "execution_count": 9,
      "outputs": [
        {
          "output_type": "stream",
          "name": "stdout",
          "text": [
            "[1, 2, 4, 5]\n"
          ]
        }
      ]
    },
    {
      "cell_type": "code",
      "source": [
        "# 9. Write a code to access the second element in the list ['a', 'b', 'c', 'd']\n",
        "list_to_access = ['a', 'b', 'c', 'd']\n",
        "second_element = list_to_access[1]\n",
        "print(second_element)"
      ],
      "metadata": {
        "colab": {
          "base_uri": "https://localhost:8080/"
        },
        "id": "4Pc1vG7d4LHW",
        "outputId": "1e1f667b-de9f-4ed9-bb30-d37ff7288ea0"
      },
      "execution_count": 10,
      "outputs": [
        {
          "output_type": "stream",
          "name": "stdout",
          "text": [
            "b\n"
          ]
        }
      ]
    },
    {
      "cell_type": "code",
      "source": [
        "# 10. Write a code to reverse the list [10, 20, 30, 40, 50].\n",
        "list_to_reverse = [10, 20, 30, 40, 50]\n",
        "list_to_reverse.reverse()\n",
        "print(list_to_reverse)"
      ],
      "metadata": {
        "colab": {
          "base_uri": "https://localhost:8080/"
        },
        "id": "tppowDjj4LEm",
        "outputId": "3351a45b-25a7-4096-bac5-7b417240abe4"
      },
      "execution_count": 11,
      "outputs": [
        {
          "output_type": "stream",
          "name": "stdout",
          "text": [
            "[50, 40, 30, 20, 10]\n"
          ]
        }
      ]
    },
    {
      "cell_type": "code",
      "source": [
        "# 11. Write a code to create a tuple with the elements 100, 200, 300 and print it.\n",
        "my_tuple = (100, 200, 300)\n",
        "print(my_tuple)"
      ],
      "metadata": {
        "colab": {
          "base_uri": "https://localhost:8080/"
        },
        "id": "99fLWkn64LBw",
        "outputId": "3133d5c5-c256-4368-e14d-b8d2e4b79627"
      },
      "execution_count": 12,
      "outputs": [
        {
          "output_type": "stream",
          "name": "stdout",
          "text": [
            "(100, 200, 300)\n"
          ]
        }
      ]
    },
    {
      "cell_type": "code",
      "source": [
        "# 12. Write a code to access the second-to-last element of the tuple ('red', 'green', 'blue', 'yellow').\n",
        "tuple_to_access = ('red', 'green', 'blue', 'yellow')\n",
        "second_to_last = tuple_to_access[-2]\n",
        "print(second_to_last)"
      ],
      "metadata": {
        "colab": {
          "base_uri": "https://localhost:8080/"
        },
        "id": "uxZV1_CV4K-8",
        "outputId": "4f3e75dd-ef65-46ee-bb21-39ccfb44f685"
      },
      "execution_count": 13,
      "outputs": [
        {
          "output_type": "stream",
          "name": "stdout",
          "text": [
            "blue\n"
          ]
        }
      ]
    },
    {
      "cell_type": "code",
      "source": [
        "#13. Write a code to find the minimum number in the tuple (10, 20, 5, 15).\n",
        "tuple_min = (10, 20, 5, 15)\n",
        "minimum_number = min(tuple_min)\n",
        "print(minimum_number)"
      ],
      "metadata": {
        "colab": {
          "base_uri": "https://localhost:8080/"
        },
        "id": "2BCBt3F44K8e",
        "outputId": "0324324b-19ed-4058-9c25-eae4d52117ef"
      },
      "execution_count": 14,
      "outputs": [
        {
          "output_type": "stream",
          "name": "stdout",
          "text": [
            "5\n"
          ]
        }
      ]
    },
    {
      "cell_type": "code",
      "source": [
        "# 14. Write a code to find the index of the element \"cat\" in the tuple ('dog', 'cat', 'rabbit').\n",
        "tuple_index = ('dog', 'cat', 'rabbit')\n",
        "index_of_cat = tuple_index.index(\"cat\")\n",
        "print(index_of_cat)"
      ],
      "metadata": {
        "colab": {
          "base_uri": "https://localhost:8080/"
        },
        "id": "Ey3E_FoI4K3I",
        "outputId": "7e6cff19-128a-4853-bb0f-d54ec993f515"
      },
      "execution_count": 15,
      "outputs": [
        {
          "output_type": "stream",
          "name": "stdout",
          "text": [
            "1\n"
          ]
        }
      ]
    },
    {
      "cell_type": "code",
      "source": [
        "# 15. Write a code to create a tuple containing three different fruits and check if \"kiwi\" is in it.\n",
        "fruit_tuple = (\"apple\", \"banana\", \"orange\")\n",
        "is_kiwi_in_tuple = \"kiwi\" in fruit_tuple\n",
        "print(is_kiwi_in_tuple)"
      ],
      "metadata": {
        "colab": {
          "base_uri": "https://localhost:8080/"
        },
        "id": "YvUaUdsz4K0b",
        "outputId": "1880e580-a2e1-4ea4-d3cb-c3ba5ea0dc67"
      },
      "execution_count": 16,
      "outputs": [
        {
          "output_type": "stream",
          "name": "stdout",
          "text": [
            "False\n"
          ]
        }
      ]
    },
    {
      "cell_type": "code",
      "source": [
        "# 16. Write a code to create a set with the elements 'a', 'b', 'c' and print it.\n",
        "my_set = {'a', 'b', 'c'}\n",
        "print(my_set)"
      ],
      "metadata": {
        "colab": {
          "base_uri": "https://localhost:8080/"
        },
        "id": "1A1NMVDI4Kxj",
        "outputId": "103bed22-2442-406d-aad4-9eca35f0f5b5"
      },
      "execution_count": 17,
      "outputs": [
        {
          "output_type": "stream",
          "name": "stdout",
          "text": [
            "{'c', 'a', 'b'}\n"
          ]
        }
      ]
    },
    {
      "cell_type": "code",
      "source": [
        "# 17. Write a code to clear all elements from the set {1, 2, 3, 4, 5}.\n",
        "set_to_clear = {1, 2, 3, 4, 5}\n",
        "set_to_clear.clear()\n",
        "print(set_to_clear)"
      ],
      "metadata": {
        "colab": {
          "base_uri": "https://localhost:8080/"
        },
        "id": "eHiAJxYR4Ku4",
        "outputId": "dccae543-6308-4279-ff76-4b8ef98cb614"
      },
      "execution_count": 18,
      "outputs": [
        {
          "output_type": "stream",
          "name": "stdout",
          "text": [
            "set()\n"
          ]
        }
      ]
    },
    {
      "cell_type": "code",
      "source": [
        "# 18. Write a code to remove the element 4 from the set {1, 2, 3, 4}.\n",
        "set_to_remove = {1, 2, 3, 4}\n",
        "set_to_remove.remove(4)\n",
        "print(set_to_remove)"
      ],
      "metadata": {
        "colab": {
          "base_uri": "https://localhost:8080/"
        },
        "id": "i5RKUn204KsP",
        "outputId": "6573cd14-7091-4956-9977-4a85b3f50cda"
      },
      "execution_count": 19,
      "outputs": [
        {
          "output_type": "stream",
          "name": "stdout",
          "text": [
            "{1, 2, 3}\n"
          ]
        }
      ]
    },
    {
      "cell_type": "code",
      "source": [
        "# 19. Write a code to find the union of two sets {1, 2, 3} and {3, 4, 5}.\n",
        "set1 = {1, 2, 3}\n",
        "set2 = {3, 4, 5}\n",
        "union_set = set1.union(set2)\n",
        "print(union_set)"
      ],
      "metadata": {
        "colab": {
          "base_uri": "https://localhost:8080/"
        },
        "id": "TYRQMuAf4Kpx",
        "outputId": "2f60c6d1-025c-4c84-ea3b-b7c7d264c697"
      },
      "execution_count": 20,
      "outputs": [
        {
          "output_type": "stream",
          "name": "stdout",
          "text": [
            "{1, 2, 3, 4, 5}\n"
          ]
        }
      ]
    },
    {
      "cell_type": "code",
      "source": [
        "# 20. Write a code to find the intersection of two sets {1, 2, 3} and {2, 3, 4}.\n",
        "set3 = {1, 2, 3}\n",
        "set4 = {2, 3, 4}\n",
        "intersection_set = set3.intersection(set4)\n",
        "print(intersection_set)"
      ],
      "metadata": {
        "colab": {
          "base_uri": "https://localhost:8080/"
        },
        "id": "xTG_Jmh-4KnB",
        "outputId": "0485f4b9-75a8-47e6-c8bd-7e05bab266a0"
      },
      "execution_count": 21,
      "outputs": [
        {
          "output_type": "stream",
          "name": "stdout",
          "text": [
            "{2, 3}\n"
          ]
        }
      ]
    },
    {
      "cell_type": "code",
      "source": [
        "# 21. Write a code to create a dictionary with the keys \"name\", \"age\", and \"city\", and print it.\n",
        "my_dict = {\"name\": \"Your Name\", \"age\": 30, \"city\": \"Your City\"} # Replace with your details\n",
        "print(my_dict)"
      ],
      "metadata": {
        "colab": {
          "base_uri": "https://localhost:8080/"
        },
        "id": "W7QbpNZp4Kkd",
        "outputId": "8ee261bd-41ab-4c23-cb07-db521558e331"
      },
      "execution_count": 22,
      "outputs": [
        {
          "output_type": "stream",
          "name": "stdout",
          "text": [
            "{'name': 'Your Name', 'age': 30, 'city': 'Your City'}\n"
          ]
        }
      ]
    },
    {
      "cell_type": "code",
      "source": [
        "# 22. Write a code to add a new key-value pair \"country\": \"USA\" to the dictionary {'name': 'John', 'age': 25}.\n",
        "dict_to_add = {'name': 'John', 'age': 25}\n",
        "dict_to_add[\"country\"] = \"USA\"\n",
        "print(dict_to_add)"
      ],
      "metadata": {
        "colab": {
          "base_uri": "https://localhost:8080/"
        },
        "id": "_Zxv5GoV4KiE",
        "outputId": "2532c1d5-6941-42bb-c393-6f23389fa721"
      },
      "execution_count": 23,
      "outputs": [
        {
          "output_type": "stream",
          "name": "stdout",
          "text": [
            "{'name': 'John', 'age': 25, 'country': 'USA'}\n"
          ]
        }
      ]
    },
    {
      "cell_type": "code",
      "source": [
        "# 23. Write a code to access the value associated with the key \"name\" in the dictionary {'name': 'Alice', 'age': 30}.\n",
        "dict_to_access = {'name': 'Alice', 'age': 30}\n",
        "name_value = dict_to_access[\"name\"]\n",
        "print(name_value)"
      ],
      "metadata": {
        "colab": {
          "base_uri": "https://localhost:8080/"
        },
        "id": "-0TC50iA4Kfe",
        "outputId": "4fc621a1-6b63-47e4-911e-5d4aa17988a3"
      },
      "execution_count": 24,
      "outputs": [
        {
          "output_type": "stream",
          "name": "stdout",
          "text": [
            "Alice\n"
          ]
        }
      ]
    },
    {
      "cell_type": "code",
      "source": [
        "# 24. Write a code to remove the key \"age\" from the dictionary {'name': 'Bob', 'age': 22, 'city': 'New York'}.\n",
        "dict_to_remove = {'name': 'Bob', 'age': 22, 'city': 'New York'}\n",
        "del dict_to_remove[\"age\"]\n",
        "print(dict_to_remove)"
      ],
      "metadata": {
        "colab": {
          "base_uri": "https://localhost:8080/"
        },
        "id": "1bvSJ5Pb4Kcz",
        "outputId": "6ce2fb27-f4cc-489d-afc4-bc8cfc4f9bca"
      },
      "execution_count": 25,
      "outputs": [
        {
          "output_type": "stream",
          "name": "stdout",
          "text": [
            "{'name': 'Bob', 'city': 'New York'}\n"
          ]
        }
      ]
    },
    {
      "cell_type": "code",
      "source": [
        "# 25. Write a code to check if the key \"city\" exists in the dictionary {'name': 'Alice', 'city': 'Paris'}.\n",
        "my_dict_check = {'name': 'Alice', 'city': 'Paris'}\n",
        "if \"city\" in my_dict_check:\n",
        "    print(\"The key 'city' exists in the dictionary.\")\n",
        "else:\n",
        "    print(\"The key 'city' does not exist in the dictionary.\")"
      ],
      "metadata": {
        "colab": {
          "base_uri": "https://localhost:8080/"
        },
        "id": "Kq1oFNas4KZZ",
        "outputId": "9a05315f-23ec-40f1-f213-6cfe599f53a7"
      },
      "execution_count": 26,
      "outputs": [
        {
          "output_type": "stream",
          "name": "stdout",
          "text": [
            "The key 'city' exists in the dictionary.\n"
          ]
        }
      ]
    },
    {
      "cell_type": "code",
      "source": [
        "# 26. Write a code to create a list, a tuple, and a dictionary, and print them all.\n",
        "my_list_26 = [1, 2, 3]\n",
        "my_tuple_26 = (4, 5, 6)\n",
        "my_dict_26 = {\"a\": 1, \"b\": 2}\n",
        "print(my_list_26)\n",
        "print(my_tuple_26)\n",
        "print(my_dict_26)"
      ],
      "metadata": {
        "colab": {
          "base_uri": "https://localhost:8080/"
        },
        "id": "BSwKdNGC4KXK",
        "outputId": "9bae604d-1285-4c87-fa3a-662c4f0bf5c2"
      },
      "execution_count": 27,
      "outputs": [
        {
          "output_type": "stream",
          "name": "stdout",
          "text": [
            "[1, 2, 3]\n",
            "(4, 5, 6)\n",
            "{'a': 1, 'b': 2}\n"
          ]
        }
      ]
    },
    {
      "cell_type": "code",
      "source": [
        "# 27. Write a code to create a list of 5 random numbers between 1 and 100, sort it in ascending order, and print the result.\n",
        "import random\n",
        "random_list = random.sample(range(1, 101), 5)\n",
        "random_list.sort()\n",
        "print(random_list)"
      ],
      "metadata": {
        "colab": {
          "base_uri": "https://localhost:8080/"
        },
        "id": "JzL8M3RT4KUN",
        "outputId": "3b6ce0ff-de71-4151-8f94-ce98239b0605"
      },
      "execution_count": 28,
      "outputs": [
        {
          "output_type": "stream",
          "name": "stdout",
          "text": [
            "[4, 37, 40, 63, 78]\n"
          ]
        }
      ]
    },
    {
      "cell_type": "code",
      "source": [
        "# 28. Write a code to create a list with strings and print the element at the third index.\n",
        "string_list = [\"apple\", \"banana\", \"cherry\", \"date\"]\n",
        "print(string_list[2])"
      ],
      "metadata": {
        "colab": {
          "base_uri": "https://localhost:8080/"
        },
        "id": "yqCsBv4u5rPa",
        "outputId": "d6d83d92-8a9f-4d10-9521-755401163fc4"
      },
      "execution_count": 29,
      "outputs": [
        {
          "output_type": "stream",
          "name": "stdout",
          "text": [
            "cherry\n"
          ]
        }
      ]
    },
    {
      "cell_type": "code",
      "source": [
        "# 29. Write a code to combine two dictionaries into one and print the result.\n",
        "dict1 = {\"a\": 1, \"b\": 2}\n",
        "dict2 = {\"c\": 3, \"d\": 4}\n",
        "combined_dict = {**dict1, **dict2}\n",
        "print(combined_dict)"
      ],
      "metadata": {
        "colab": {
          "base_uri": "https://localhost:8080/"
        },
        "id": "VpSmQUSV5rLk",
        "outputId": "7cc22ae7-6e67-4b7c-e63a-979f1301b8e7"
      },
      "execution_count": 30,
      "outputs": [
        {
          "output_type": "stream",
          "name": "stdout",
          "text": [
            "{'a': 1, 'b': 2, 'c': 3, 'd': 4}\n"
          ]
        }
      ]
    },
    {
      "cell_type": "code",
      "source": [
        "# 30. Write a code to convert a list of strings into a set\n",
        "string_list_to_set = [\"apple\", \"banana\", \"cherry\", \"apple\"]\n",
        "string_set = set(string_list_to_set)\n",
        "print(string_set)"
      ],
      "metadata": {
        "colab": {
          "base_uri": "https://localhost:8080/"
        },
        "id": "vGvwbnYP5rIK",
        "outputId": "2c4bcc02-0f5c-41b0-d31e-95819e880b67"
      },
      "execution_count": 31,
      "outputs": [
        {
          "output_type": "stream",
          "name": "stdout",
          "text": [
            "{'cherry', 'apple', 'banana'}\n"
          ]
        }
      ]
    }
  ]
}