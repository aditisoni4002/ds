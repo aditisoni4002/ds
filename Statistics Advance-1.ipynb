{
  "nbformat": 4,
  "nbformat_minor": 0,
  "metadata": {
    "colab": {
      "provenance": []
    },
    "kernelspec": {
      "name": "python3",
      "display_name": "Python 3"
    },
    "language_info": {
      "name": "python"
    }
  },
  "cells": [
    {
      "cell_type": "markdown",
      "source": [
        "#Statistics Advance-1"
      ],
      "metadata": {
        "id": "eDYkKxqiMAni"
      }
    },
    {
      "cell_type": "markdown",
      "metadata": {
        "id": "1623e3ff"
      },
      "source": [
        "**Question 1: What is a random variable in probability theory?**\n",
        "\n",
        "Answer:\n",
        "\n",
        "A random variable in probability theory is a variable whose value is subject to variations due to chance. It's a function that maps outcomes of random phenomena to numerical values."
      ]
    },
    {
      "cell_type": "markdown",
      "metadata": {
        "id": "1f79c98d"
      },
      "source": [
        "**Question 2: What are the types of random variables?**\n",
        "\n",
        "Answer:\n",
        "\n",
        "There are two main types of random variables:\n",
        "\n",
        "1.  **Discrete Random Variable**: A variable that can only take on a finite or countably infinite number of distinct values. These values are typically integers and represent counts or categories. Examples include the number of heads in a coin toss, the number of defective items in a sample, or the number of cars passing a point on a road in an hour.\n",
        "\n",
        "2.  **Continuous Random Variable**: A variable that can take on any value within a given range or interval. These values are typically measurements and can be decimals or fractions. Examples include height, weight, temperature, or the time it takes to complete a task."
      ]
    },
    {
      "cell_type": "markdown",
      "metadata": {
        "id": "40f2242e"
      },
      "source": [
        "**Question 3: Explain the difference between discrete and continuous distributions.**\n",
        "\n",
        "Answer:\n",
        "\n",
        "The difference between discrete and continuous distributions lies in the type of random variable they describe:\n",
        "\n",
        "*   **Discrete Distributions**: These describe the probabilities of outcomes for discrete random variables. The probability is assigned to specific, distinct values. Examples include the probability mass function (PMF) for a binomial or Poisson distribution.\n",
        "*   **Continuous Distributions**: These describe the probabilities of outcomes for continuous random variables. Probability is measured over intervals rather than specific values. The probability of any single value is zero. Examples include the probability density function (PDF) for a normal or exponential distribution."
      ]
    },
    {
      "cell_type": "markdown",
      "metadata": {
        "id": "d5cba66e"
      },
      "source": [
        "**Question 4: What is a binomial distribution, and how is it used in probability?**\n",
        "\n",
        "Answer:\n",
        "\n",
        "A binomial distribution is a discrete probability distribution that describes the number of successes in a fixed number of independent Bernoulli trials, each with the same probability of success. It is used to model situations where there are two possible outcomes (success or failure) for each trial, such as flipping a coin a certain number of times and counting the number of heads, or testing a fixed number of products and counting the number of defectives."
      ]
    },
    {
      "cell_type": "markdown",
      "metadata": {
        "id": "f3f70def"
      },
      "source": [
        "**Question 5: What is the standard normal distribution, and why is it important?**\n",
        "\n",
        "Answer:\n",
        "\n",
        "The standard normal distribution is a special case of the normal distribution with a mean of 0 and a standard deviation of 1. It is important because any normal distribution can be transformed into the standard normal distribution by standardizing the values (subtracting the mean and dividing by the standard deviation). This allows us to use a single table or set of calculations to find probabilities for any normal distribution. It's also crucial for hypothesis testing and constructing confidence intervals."
      ]
    },
    {
      "cell_type": "markdown",
      "metadata": {
        "id": "6c05cd98"
      },
      "source": [
        "**Question 6: What is the Central Limit Theorem (CLT), and why is it critical in statistics?**\n",
        "\n",
        "Answer:\n",
        "\n",
        "The Central Limit Theorem (CLT) is a fundamental theorem in statistics. It states that if you take sufficiently large random samples from any population with a finite mean and variance, the distribution of the sample means will approximate a normal distribution, regardless of the original population's distribution.\n",
        "\n",
        "The CLT is critical in statistics because:\n",
        "\n",
        "1.  **Basis for inferential statistics**: It allows us to make inferences about a population based on sample data, even if the population distribution is unknown.\n",
        "2.  **Allows for hypothesis testing and confidence intervals**: Many statistical tests and confidence intervals rely on the assumption of normality, which the CLT helps to justify for sample means.\n",
        "3.  **Simplifies complex problems**: It simplifies many statistical problems by allowing us to use the well-understood properties of the normal distribution."
      ]
    },
    {
      "cell_type": "markdown",
      "metadata": {
        "id": "18dac450"
      },
      "source": [
        "**Question 7: What is the significance of confidence intervals in statistical analysis?**\n",
        "\n",
        "Answer:\n",
        "\n",
        "Confidence intervals are important in statistical analysis because they provide a range of plausible values for an unknown population parameter (like the mean or proportion) based on sample data. Instead of providing a single point estimate, a confidence interval gives a range with a certain level of confidence (e.g., 95% confidence) that the true population parameter lies within that range. This helps to quantify the uncertainty associated with sample estimates and provides a more informative picture than a point estimate alone."
      ]
    },
    {
      "cell_type": "markdown",
      "metadata": {
        "id": "224021d3"
      },
      "source": [
        "**Question 8: What is the concept of expected value in a probability distribution?**\n",
        "\n",
        "Answer:\n",
        "\n",
        "The expected value (or expectation) of a random variable is the average value one would expect to get if the experiment were repeated many times. It is a weighted average of all possible values that the random variable can take, where the weights are the probabilities of each value. For a discrete random variable, it's calculated as the sum of each possible value multiplied by its probability. For a continuous random variable, it's calculated using integration. The expected value represents the center or mean of the probability distribution."
      ]
    },
    {
      "cell_type": "markdown",
      "source": [
        "Question 9: Write a Python program to generate 1000 random numbers from a normal\n",
        "            distribution with mean = 50 and standard deviation = 5.\n",
        "            Compute its mean and standard deviation using NumPy, and draw a histogram to visualize the distribution."
      ],
      "metadata": {
        "id": "h5X3eWLSMAfH"
      }
    },
    {
      "cell_type": "code",
      "metadata": {
        "colab": {
          "base_uri": "https://localhost:8080/",
          "height": 507
        },
        "id": "b050b53e",
        "outputId": "7159a51a-7b96-45ec-a308-b223a1ce8336"
      },
      "source": [
        "import numpy as np\n",
        "import matplotlib.pyplot as plt\n",
        "\n",
        "# Generate 1000 random numbers from a normal distribution\n",
        "mean = 50\n",
        "std_dev = 5\n",
        "random_numbers = np.random.normal(mean, std_dev, 1000)\n",
        "\n",
        "# Compute mean and standard deviation using NumPy\n",
        "computed_mean = np.mean(random_numbers)\n",
        "computed_std_dev = np.std(random_numbers)\n",
        "\n",
        "print(f\"Computed Mean: {computed_mean}\")\n",
        "print(f\"Computed Standard Deviation: {computed_std_dev}\")\n",
        "\n",
        "# Draw a histogram to visualize the distribution\n",
        "plt.hist(random_numbers, bins=30, density=True, alpha=0.6, color='g')\n",
        "plt.title('Histogram of Random Numbers from Normal Distribution')\n",
        "plt.xlabel('Value')\n",
        "plt.ylabel('Frequency')\n",
        "plt.show()"
      ],
      "execution_count": 1,
      "outputs": [
        {
          "output_type": "stream",
          "name": "stdout",
          "text": [
            "Computed Mean: 49.84754158862849\n",
            "Computed Standard Deviation: 4.929720161100936\n"
          ]
        },
        {
          "output_type": "display_data",
          "data": {
            "text/plain": [
              "<Figure size 640x480 with 1 Axes>"
            ],
            "image/png": "[encoded data removed]"
          },
          "metadata": {}
        }
      ]
    },
    {
      "cell_type": "markdown",
      "source": [
        "Question 10: You are working as a data analyst for a retail company. The  company has collected daily sales data for 2 years and wants you to identify the overall sales trend.\n",
        "\n",
        " daily_sales = [220, 245, 210, 265, 230, 250, 260, 275, 240, 255,\n",
        " 235, 260, 245, 250, 225, 270, 265, 255, 250, 260]\n",
        "\n",
        " ● Explain how you would apply the Central Limit Theorem to estimate the average  sales with a 95% confidence interval.\n",
        "\n",
        "● Write the Python code to compute the mean sales and its confidence interval."
      ],
      "metadata": {
        "id": "XTVzBFl0NlTt"
      }
    },
    {
      "cell_type": "markdown",
      "metadata": {
        "id": "53c1a22e"
      },
      "source": [
        "Answer:\n",
        "\n",
        "**Applying the Central Limit Theorem (CLT) to Estimate Average Sales**\n",
        "\n",
        "The Central Limit Theorem (CLT) is crucial here because even if the distribution of daily sales data is not perfectly normal, the distribution of the sample means of daily sales will tend towards a normal distribution as the sample size increases.\n",
        "\n",
        "Here's how we apply the CLT to estimate the average sales with a 95% confidence interval:\n",
        "\n",
        "1. **Sample Mean:** We calculate the mean of the available daily sales data. This sample mean serves as our best estimate of the true average daily sales for the entire 2-year period.\n",
        "\n",
        "2. **Standard Error:** The CLT tells us that the standard deviation of the sample means (known as the standard error) can be estimated by dividing the sample standard deviation by the square root of the sample size. This value quantifies the variability of sample means around the true population mean.\n",
        "\n",
        "3. **Confidence Level:** We are asked for a 95% confidence interval. This means we want to construct an interval such that if we were to take many samples and construct a confidence interval for each, 95% of these intervals would contain the true population mean.\n",
        "\n",
        "4. **Z-score or t-score:** Since the sample size is relatively small (20 in this case), we use a t-distribution instead of a z-distribution. We find the t-score corresponding to a 95% confidence level and the degrees of freedom (sample size - 1).\n",
        "\n",
        "5. **Margin of Error:** The margin of error is calculated by multiplying the t-score by the standard error. This value represents how far we can reasonably expect our sample mean to be from the true population mean.\n",
        "\n",
        "6. **Confidence Interval:** The confidence interval is constructed by subtracting the margin of error from the sample mean to get the lower bound and adding the margin of error to the sample mean to get the upper bound.\n",
        "\n",
        "The resulting interval gives us a range within which we are 95% confident that the true average daily sales for the retail company lies."
      ]
    },
    {
      "cell_type": "code",
      "metadata": {
        "colab": {
          "base_uri": "https://localhost:8080/"
        },
        "id": "0a69b9d4",
        "outputId": "39f5f840-e79b-4276-b09e-62fac5957cfe"
      },
      "source": [
        "import numpy as np\n",
        "from scipy import stats\n",
        "\n",
        "daily_sales = [220, 245, 210, 265, 230, 250, 260, 275, 240, 255,\n",
        "               235, 260, 245, 250, 225, 270, 265, 255, 250, 260]\n",
        "\n",
        "# Convert the list to a NumPy array for easier calculations\n",
        "sales_array = np.array(daily_sales)\n",
        "\n",
        "# Compute the mean sales\n",
        "mean_sales = np.mean(sales_array)\n",
        "\n",
        "# Compute the standard deviation of sales\n",
        "std_dev_sales = np.std(sales_array, ddof=1) # Use ddof=1 for sample standard deviation\n",
        "\n",
        "# Sample size\n",
        "n = len(sales_array)\n",
        "\n",
        "# Confidence level\n",
        "confidence_level = 0.95\n",
        "\n",
        "# Alpha (significance level)\n",
        "alpha = 1 - confidence_level\n",
        "\n",
        "# Degrees of freedom\n",
        "df = n - 1\n",
        "\n",
        "# Calculate the t-value for the confidence interval\n",
        "t_value = stats.t.ppf(1 - alpha/2, df)\n",
        "\n",
        "# Calculate the standard error\n",
        "se = std_dev_sales / np.sqrt(n)\n",
        "\n",
        "# Calculate the margin of error\n",
        "me = t_value * se\n",
        "\n",
        "# Calculate the confidence interval\n",
        "lower_bound = mean_sales - me\n",
        "upper_bound = mean_sales + me\n",
        "\n",
        "print(f\"Mean Sales: {mean_sales:.2f}\")\n",
        "print(f\"95% Confidence Interval for Average Sales: ({lower_bound:.2f}, {upper_bound:.2f})\")"
      ],
      "execution_count": 12,
      "outputs": [
        {
          "output_type": "stream",
          "name": "stdout",
          "text": [
            "Mean Sales: 248.25\n",
            "95% Confidence Interval for Average Sales: (240.17, 256.33)\n"
          ]
        }
      ]
    }
  ]
}
