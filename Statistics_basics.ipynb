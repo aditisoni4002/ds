{
  "nbformat": 4,
  "nbformat_minor": 0,
  "metadata": {
    "colab": {
      "provenance": []
    },
    "kernelspec": {
      "name": "python3",
      "display_name": "Python 3"
    },
    "language_info": {
      "name": "python"
    }
  },
  "cells": [
    {
      "cell_type": "markdown",
      "source": [
        "#STATISTICS BASICS\n",
        "Question 1: What is the difference between descriptive statistics and inferential statistics? Explain with examples.\n",
        "\n",
        "Answer:\n",
        "\n",
        "- Descriptive statistics summarize and describe the main features of a dataset. They provide simple summaries about the sample and about the observations that have been made.\n",
        "\n",
        "- Examples include measures of central tendency (mean, median, mode) and measures of dispersion (variance, standard deviation).\n",
        "\n",
        "  For instance, calculating the average height of students in a class is descriptive statistics.\n",
        "\n",
        "- Inferential statistics use a sample to draw conclusions or make inferences about a larger population. They allow us to make predictions and generalizations based on the data.\n",
        "\n",
        "  Examples include hypothesis testing, confidence intervals, and regression analysis.\n",
        "\n",
        "  For instance, using a sample of students to estimate the average height of all students in a school is inferential statistics.\n",
        "\n",
        "Question 2: What is sampling in statistics? Explain the differences between random and stratified sampling.\n",
        "\n",
        "Answer:\n",
        "\n",
        "- Sampling in statistics is the process of selecting a subset of individuals or items from a larger population to gather data and make inferences about the entire population.\n",
        "\n",
        "- Random sampling is a method where every member of the population has an equal chance of being selected for the sample. This helps to ensure that the sample is representative of the population and reduces bias. An example is drawing names from a hat.\n",
        "\n",
        "- Stratified sampling involves dividing the population into subgroups (strata) based on shared characteristics (e.g., age, gender, income) and then randomly sampling from each stratum in proportion to their representation in the population. This ensures that all relevant subgroups are represented in the sample.\n",
        "\n",
        "  An example is dividing students into age groups and then randomly selecting a certain number from each group.\n",
        "\n",
        "Question 3: Define mean, median, and mode. Explain why these measures of central tendency are important.\n",
        "\n",
        "Answer:\n",
        "\n",
        "- Mean (Average): The sum of all values in a dataset divided by the number of values. It is sensitive to extreme values.\n",
        "\n",
        "- Median: The middle value in a dataset that is ordered from least to greatest. If there is an even number of values, the median is the average of the two middle values. It is not affected by extreme values.\n",
        "\n",
        "- Mode: The value that appears most frequently in a dataset. A dataset can have one mode (unimodal), multiple modes (multimodal), or no mode.\n",
        "\n",
        "  These measures of central tendency are important because they provide a single value that represents the \"center\" or typical value of a dataset. They help us understand the distribution of data and make comparisons between different datasets.\n",
        "\n",
        "Question 4: Explain skewness and kurtosis. What does a positive skew imply about the data?\n",
        "\n",
        "Answer:\n",
        "\n",
        "- Skewness is a measure of the asymmetry of the probability distribution of a real-valued random variable about its mean. Kurtosis is a measure of the \"tailedness\" of the probability distribution of a real-valued random variable. It describes the shape of the distribution's tails relative to the tails of a normal distribution.\n",
        "\n",
        "- A positive skew implies that the tail on the right side of the distribution is longer or fatter than the tail on the left side. This means that there are more extreme values on the higher end of the data, pulling the mean towards the right of the median and mode. The distribution is skewed to the right.\n",
        "\n",
        "Question 5: Implement a Python program to compute the mean, median, and mode of a given list of numbers.\n",
        "\n",
        "numbers = [12, 15, 12, 18, 19, 12, 20, 22, 19, 19, 24, 24, 24, 26, 28]"
      ],
      "metadata": {
        "id": "eQZv4L5ie09Q"
      }
    },
    {
      "cell_type": "code",
      "source": [
        "import statistics\n",
        "\n",
        "numbers = [12, 15, 12, 18, 19, 12, 20, 22, 19, 19, 24, 24, 24, 26, 28]\n",
        "\n",
        "mean_value = statistics.mean(numbers)\n",
        "median_value = statistics.median(numbers)\n",
        "mode_value = statistics.mode(numbers)\n",
        "\n",
        "print(f\"Mean: {mean_value}\")\n",
        "print(f\"Median: {median_value}\")\n",
        "print(f\"Mode: {mode_value}\")"
      ],
      "metadata": {
        "colab": {
          "base_uri": "https://localhost:8080/"
        },
        "id": "I-OwudtTgaBJ",
        "outputId": "a55ba54f-12ba-4ac5-8443-e93b86d598a9"
      },
      "execution_count": 1,
      "outputs": [
        {
          "output_type": "stream",
          "name": "stdout",
          "text": [
            "Mean: 19.6\n",
            "Median: 19\n",
            "Mode: 12\n"
          ]
        }
      ]
    },
    {
      "cell_type": "markdown",
      "source": [
        "Question 6: Compute the covariance and correlation coefficient between the following two datasets provided as lists in Python:\n",
        "\n",
        "list_x = [10, 20, 30, 40, 50]\n",
        "list_y = [15, 25, 35, 45, 60]"
      ],
      "metadata": {
        "id": "-nTPh8cKghKY"
      }
    },
    {
      "cell_type": "code",
      "source": [
        "\n",
        "import numpy as np\n",
        "\n",
        "list_x = [10, 20, 30, 40, 50]\n",
        "list_y = [15, 25, 35, 45, 60]\n",
        "\n",
        "array_x = np.array(list_x)\n",
        "array_y = np.array(list_y)\n",
        "\n",
        "covariance_matrix = np.cov(array_x, array_y)\n",
        "covariance = covariance_matrix[0, 1]\n",
        "\n",
        "correlation_matrix = np.corrcoef(array_x, array_y)\n",
        "correlation_coefficient = correlation_matrix[0, 1]\n",
        "\n",
        "print(f\"Covariance between list_x and list_y: {covariance}\")\n",
        "print(f\"Correlation coefficient between list_x and list_y: {correlation_coefficient}\")"
      ],
      "metadata": {
        "colab": {
          "base_uri": "https://localhost:8080/"
        },
        "id": "fdSkUFBogmz1",
        "outputId": "bf2e4590-a5ad-48c9-d41d-8fb7daa45ba6"
      },
      "execution_count": 2,
      "outputs": [
        {
          "output_type": "stream",
          "name": "stdout",
          "text": [
            "Covariance between list_x and list_y: 275.0\n",
            "Correlation coefficient between list_x and list_y: 0.995893206467704\n"
          ]
        }
      ]
    },
    {
      "cell_type": "markdown",
      "source": [
        "Question 7: Write a Python script to draw a boxplot for the following numeric list and identify its outliers. Explain the result:\n",
        "\n",
        "data = [12, 14, 14, 15, 18, 19, 19, 21, 22, 22, 23, 23, 24, 26, 29, 35]"
      ],
      "metadata": {
        "id": "sxwLcSGVgtv1"
      }
    },
    {
      "cell_type": "code",
      "source": [
        "import matplotlib.pyplot as plt\n",
        "import numpy as np\n",
        "\n",
        "data = [12, 14, 14, 15, 18, 19, 19, 21, 22, 22, 23, 23, 24, 26, 29, 35]\n",
        "\n",
        "# Create a boxplot\n",
        "plt.figure(figsize=(8, 6))\n",
        "plt.boxplot(data)\n",
        "plt.title(\"Boxplot of Data\")\n",
        "plt.ylabel(\"Values\")\n",
        "plt.show()\n",
        "\n",
        "# Calculate quartiles and IQR\n",
        "q1 = np.percentile(data, 25)\n",
        "q3 = np.percentile(data, 75)\n",
        "iqr = q3 - q1\n",
        "\n",
        "# Define outlier bounds\n",
        "lower_bound = q1 - 1.5 * iqr\n",
        "upper_bound = q3 + 1.5 * iqr\n",
        "\n",
        "# Identify outliers\n",
        "outliers = [x for x in data if x < lower_bound or x > upper_bound]"
      ],
      "metadata": {
        "colab": {
          "base_uri": "https://localhost:8080/",
          "height": 545
        },
        "id": "V9XrktPYgz97",
        "outputId": "0d35845c-d754-4b81-dc7d-23d81fdef036"
      },
      "execution_count": 3,
      "outputs": [
        {
          "output_type": "display_data",
          "data": {
            "text/plain": [
              "<Figure size 800x600 with 1 Axes>"
            ],
            "image/png": "[encoded data removed]"
          },
          "metadata": {}
        }
      ]
    },
    {
      "cell_type": "markdown",
      "source": [
        "Question 8: You are working as a data analyst in an e-commerce company. The marketing team wants to know if there is a relationship between advertising spend and daily sales.\n",
        "\n",
        "  Explain how you would use covariance and correlation to explore this\n",
        "relationship.\n",
        "\n",
        "  Write Python code to compute the correlation between the two lists:\n",
        "\n",
        "  advertising_spend = [200, 250, 300, 400, 500]\n",
        "\n",
        "  daily_sales = [2200, 2450, 2750, 3200, 4000]\n",
        "(Include your Python code and output in the code box below.)\n",
        "\n",
        "Answer:\n",
        "\n",
        "To explore the relationship between advertising spend and daily sales using covariance and correlation:\n",
        "\n",
        "- Covariance: Covariance measures the direction of the linear relationship between two variables. A positive covariance indicates that as advertising spend increases, daily sales also tend to increase. A negative covariance indicates that as advertising spend increases, daily sales tend to decrease. A covariance close to zero suggests a weak or no linear relationship. However, the magnitude of covariance is not standardized, making it difficult to compare the strength of relationships between different pairs of variables.\n",
        "\n",
        "- Correlation: The correlation coefficient (specifically, Pearson correlation coefficient) is a standardized measure of the linear relationship between two variables. It ranges from -1 to +1.\n",
        "\n",
        "- A correlation coefficient close to +1 indicates a strong positive linear relationship (as advertising spend increases, daily sales strongly increase).\n",
        "- A correlation coefficient close to -1 indicates a strong negative linear relationship (as advertising spend increases, daily sales strongly decrease).\n",
        "- A correlation coefficient close to 0 indicates a weak or no linear relationship.\n",
        "In this case, you would expect a positive correlation between advertising spend and daily sales, as increasing advertising typically leads to increased sales. The correlation coefficient would give you a clear indication of the strength of this linear association.\n",
        "\n",
        "Paste your code and output inside the box below:\n"
      ],
      "metadata": {
        "id": "vfH-sEU8g9GH"
      }
    },
    {
      "cell_type": "code",
      "source": [
        "import numpy as np\n",
        "\n",
        "advertising_spend = [200, 250, 300, 400, 500]\n",
        "daily_sales = [2200, 2450, 2750, 3200, 4000]\n",
        "\n",
        "correlation_coefficient = np.corrcoef(advertising_spend, daily_sales)[0, 1]\n",
        "\n",
        "print(f\"Correlation coefficient between advertising spend and daily sales: {correlation_coefficient}\")\n",
        ""
      ],
      "metadata": {
        "colab": {
          "base_uri": "https://localhost:8080/"
        },
        "id": "4-Gl8B3Mh6z8",
        "outputId": "43d62ce7-1a95-4527-dce5-0ddbc6e51d4a"
      },
      "execution_count": 4,
      "outputs": [
        {
          "output_type": "stream",
          "name": "stdout",
          "text": [
            "Correlation coefficient between advertising spend and daily sales: 0.9935824101653329\n"
          ]
        }
      ]
    },
    {
      "cell_type": "markdown",
      "source": [
        "Question 9: Your team has collected customer satisfaction survey data on a scale of 1-10 and wants to understand its distribution before launching a new product.\n",
        "\n",
        "- Explain which summary statistics and visualizations (e.g. mean, standard deviation, histogram) you’d use.\n",
        "\n",
        "- Write Python code to create a histogram using Matplotlib for the survey data:\n",
        "\n",
        "  survey_scores = [7, 8, 5, 9, 6, 7, 8, 9, 10, 4, 7, 6, 9, 8, 7] (Include your Python code and output in the code box below.)\n",
        "\n",
        "Answer:\n",
        "\n",
        "To understand the distribution of customer satisfaction survey data (on a scale of 1-10), several summary statistics and visualizations would be useful:\n",
        "\n",
        "  Summary Statistics:\n",
        "\n",
        "1. Mean: The average survey score. This provides a single number representing the typical satisfaction level. It's useful for a quick overall understanding.\n",
        "2. Median: The middle survey score when the data is ordered. This is less sensitive to extreme scores than the mean and gives a good sense of the central value.\n",
        "3. Mode: The most frequent survey score. This indicates which specific score was given most often by customers.\n",
        "4. Standard Deviation: A measure of the spread or variability of the scores around the mean. A high standard deviation indicates that scores are widely spread, while a low standard deviation indicates scores are clustered closely around the mean. This helps understand how consistent customer satisfaction is.\n",
        "5. Minimum and Maximum: The lowest and highest scores received. These show the full range of satisfaction levels observed.\n",
        "\n",
        "Visualizations:\n",
        "\n",
        "1. Histogram: This is an excellent visualization  for understanding the distribution of numerical data like survey scores. It shows the frequency of each score (or ranges of scores if binned). A histogram will quickly reveal:\n",
        "- The shape of the distribution (e.g., is it skewed towards higher or lower scores? Is it roughly symmetrical?).\n",
        "- The most common score(s) (peaks in the histogram).\n",
        "- The spread of the scores.\n",
        "- Any potential outliers or unusual patterns.\n",
        "\n",
        "By using these summary statistics and a histogram, the team can gain a comprehensive understanding of how satisfied their customers are, where the scores are concentrated, and how much variation exists in satisfaction levels before launching a new product."
      ],
      "metadata": {
        "id": "fGMIYb1Zh80U"
      }
    },
    {
      "cell_type": "code",
      "source": [
        "import matplotlib.pyplot as plt\n",
        "\n",
        "survey_scores = [7, 8, 5, 9, 6, 7, 8, 9, 10, 4, 7, 6, 9, 8, 7]\n",
        "\n",
        "# Create a histogram\n",
        "plt.figure(figsize=(10, 6)) # Set the figure size\n",
        "plt.hist(survey_scores, bins=range(min(survey_scores), max(survey_scores) + 2), align='left', rwidth=0.8) # Create the histogram\n",
        "\n",
        "# Add labels and title\n",
        "plt.xlabel('Survey Score')\n",
        "plt.ylabel('Frequency')\n",
        "plt.title('Distribution of Customer Satisfaction Survey Scores')\n",
        "plt.xticks(range(min(survey_scores), max(survey_scores) + 1)) # Set x-axis ticks to be the integer scores\n",
        "\n",
        "# Display the plot\n",
        "plt.show()"
      ],
      "metadata": {
        "colab": {
          "base_uri": "https://localhost:8080/",
          "height": 564
        },
        "id": "XDAh4Bs_i_1W",
        "outputId": "7e595c94-adbd-47af-f76c-79dfd8d4777f"
      },
      "execution_count": 5,
      "outputs": [
        {
          "output_type": "display_data",
          "data": {
            "text/plain": [
              "<Figure size 1000x600 with 1 Axes>"
            ],
            "image/png": "[encoded data removed]"
          },
          "metadata": {}
        }
      ]
    }
  ]
}