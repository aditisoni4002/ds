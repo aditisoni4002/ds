{
  "nbformat": 4,
  "nbformat_minor": 0,
  "metadata": {
    "colab": {
      "provenance": []
    },
    "kernelspec": {
      "name": "python3",
      "display_name": "Python 3"
    },
    "language_info": {
      "name": "python"
    }
  },
  "cells": [
    {
      "cell_type": "markdown",
      "source": [
        "Functions Questions And Answers\n",
        "\n",
        "1. What is the difference between a function and a method in Python?\n",
        "\n",
        "- Function: A block of reusable code that performs a specific task. Functions are defined outside of a class.\n",
        "\n",
        "- Method: A function that is defined inside a class. Methods are associated with objects of that class and can access and modify the object's data."
      ],
      "metadata": {
        "id": "Y2FnZzYxBRrl"
      }
    },
    {
      "cell_type": "code",
      "execution_count": null,
      "metadata": {
        "colab": {
          "base_uri": "https://localhost:8080/"
        },
        "id": "MVc0nJbgAu36",
        "outputId": "e002e335-119e-45cb-96a9-90e74660733b"
      },
      "outputs": [
        {
          "output_type": "stream",
          "name": "stdout",
          "text": [
            "Hello, Aditi!\n",
            "Buddy says Woof!\n"
          ]
        }
      ],
      "source": [
        "# Example of a function\n",
        "def greet(name):\n",
        "  return f\"Hello, {name}!\"\n",
        "\n",
        "print(greet(\"Aditi\"))\n",
        "\n",
        "# Example of a method\n",
        "class Dog:\n",
        "  def __init__(self, name):\n",
        "    self.name = name\n",
        "\n",
        "  def bark(self): # This is a method\n",
        "    return f\"{self.name} says Woof!\"\n",
        "\n",
        "my_dog = Dog(\"Buddy\")\n",
        "print(my_dog.bark())"
      ]
    },
    {
      "cell_type": "markdown",
      "source": [
        "2. Explain the concept of function arguments and parameters in Python.\n",
        "\n",
        "- Parameters: The names defined in the function definition that represent the values the function expects to receive.\n",
        "\n",
        "- Arguments: The actual values passed to the function when it is called."
      ],
      "metadata": {
        "id": "A1u64sH8Ccam"
      }
    },
    {
      "cell_type": "code",
      "source": [
        "def add_numbers(a, b): # a and b are parameters\n",
        "  return a + b\n",
        "\n",
        "result = add_numbers(8, 2) # 5 and 3 are arguments\n",
        "print(result)"
      ],
      "metadata": {
        "colab": {
          "base_uri": "https://localhost:8080/"
        },
        "id": "BwOF-GEcCpoV",
        "outputId": "c8fcdb19-4a03-4b4b-9b7a-4dd6bed0b70b"
      },
      "execution_count": null,
      "outputs": [
        {
          "output_type": "stream",
          "name": "stdout",
          "text": [
            "10\n"
          ]
        }
      ]
    },
    {
      "cell_type": "markdown",
      "source": [
        "3. What are the different ways to define and call a function in Python?\n",
        "- Functions can be defined using the def keyword and called by using the function name followed by parentheses ()."
      ],
      "metadata": {
        "id": "vWNCEDsuCxnF"
      }
    },
    {
      "cell_type": "code",
      "source": [
        "# Defining a function\n",
        "def say_hello():\n",
        "  print(\"Hello!\")\n",
        "\n",
        "# Calling a function\n",
        "say_hello()\n",
        "\n",
        "# Defining a function with parameters\n",
        "def add(x, y):\n",
        "  return x + y\n",
        "\n",
        "# Calling a function with arguments\n",
        "sum_result = add(11, 11)\n",
        "print(sum_result)"
      ],
      "metadata": {
        "colab": {
          "base_uri": "https://localhost:8080/"
        },
        "id": "n9uPPw-cC7Xg",
        "outputId": "952f50d1-5f8b-491c-da76-dab9ae204b1f"
      },
      "execution_count": null,
      "outputs": [
        {
          "output_type": "stream",
          "name": "stdout",
          "text": [
            "Hello!\n",
            "22\n"
          ]
        }
      ]
    },
    {
      "cell_type": "markdown",
      "source": [
        "4. What is the purpose of the return statement in a Python function?\n",
        "- The return statement is used to exit a function and send a value back to the caller. If no return statement is used, the function returns None by default."
      ],
      "metadata": {
        "id": "4yLO1c-rDGy7"
      }
    },
    {
      "cell_type": "code",
      "source": [
        "def multiply(a, b):\n",
        "  return a * b # Returns the result of the multiplication\n",
        "\n",
        "result = multiply(4, 5)\n",
        "print(result)\n",
        "\n",
        "def do_nothing():\n",
        "  pass # This function implicitly returns None\n",
        "\n",
        "print(do_nothing())"
      ],
      "metadata": {
        "colab": {
          "base_uri": "https://localhost:8080/"
        },
        "id": "F2I3QZoSDQXC",
        "outputId": "cd306ee0-7606-4a60-e7bb-22ddc969e8bf"
      },
      "execution_count": null,
      "outputs": [
        {
          "output_type": "stream",
          "name": "stdout",
          "text": [
            "20\n",
            "None\n"
          ]
        }
      ]
    },
    {
      "cell_type": "markdown",
      "source": [
        "5. What are iterators in Python and how do they differ from iterables?\n",
        "- Iterable: An object that can be iterated over (e.g., lists, tuples, strings, dictionaries). You can get an iterator from an iterable using the iter() function.\n",
        "\n",
        "- Iterator: An object that represents a stream of data. It has a __next__() method (or next() in Python 2) which returns the next item in the stream. When there are no more items, it raises a StopIteration exception."
      ],
      "metadata": {
        "id": "VI2V4zGlDVj9"
      }
    },
    {
      "cell_type": "code",
      "source": [
        "# Iterable\n",
        "my_list = [1, 2, 3, 4]\n",
        "\n",
        "# Getting an iterator from an iterable\n",
        "my_iterator = iter(my_list)\n",
        "\n",
        "# Iterating using next()\n",
        "print(next(my_iterator))\n",
        "print(next(my_iterator))\n",
        "\n",
        "# Iterating using a for loop (which implicitly uses iter() and next())\n",
        "for item in my_list:\n",
        "  print(item)\n"
      ],
      "metadata": {
        "colab": {
          "base_uri": "https://localhost:8080/"
        },
        "id": "54ZSnxyVDlmX",
        "outputId": "7c285062-9059-485e-bf42-fd3be6b4844e"
      },
      "execution_count": null,
      "outputs": [
        {
          "output_type": "stream",
          "name": "stdout",
          "text": [
            "1\n",
            "2\n",
            "1\n",
            "2\n",
            "3\n",
            "4\n"
          ]
        }
      ]
    },
    {
      "cell_type": "markdown",
      "source": [
        "6. Explain the concept of generators in Python and how they are defined.\n",
        "- Generator: A special type of function that returns an iterator. Generators are defined using the def keyword, but instead of using return, they use the yield keyword to produce a sequence of values. Each time yield is encountered, the state of the generator is saved, and the yielded value is returned. The next time the generator's __next__() method is called, execution resumes from where it left off."
      ],
      "metadata": {
        "id": "9BVLbH9RDsKD"
      }
    },
    {
      "cell_type": "code",
      "source": [
        "\n",
        "def my_generator():\n",
        "  yield 1\n",
        "  yield 2\n",
        "  yield 3\n",
        "\n",
        "# Creating a generator object\n",
        "gen = my_generator()\n",
        "\n",
        "# Getting values from the generator\n",
        "print(next(gen))\n",
        "print(next(gen))\n",
        "print(next(gen))\n",
        "\n"
      ],
      "metadata": {
        "colab": {
          "base_uri": "https://localhost:8080/"
        },
        "id": "eiUr6EHDD4Lp",
        "outputId": "fc0c8092-11d8-4f2b-d211-200a706a3f7d"
      },
      "execution_count": null,
      "outputs": [
        {
          "output_type": "stream",
          "name": "stdout",
          "text": [
            "1\n",
            "2\n",
            "3\n"
          ]
        }
      ]
    },
    {
      "cell_type": "markdown",
      "source": [
        "7. What are the advantages of using generators over regular functions?\n",
        "- Memory Efficiency: Generators produce values on demand, so they don't load all values into memory at once, making them suitable for large datasets or infinite sequences.\n",
        "- Simplicity: The code for generators is often more concise and readable than implementing a custom iterator class.\n",
        "- Lazy Evaluation: Values are generated only when needed, which can improve performance in certain scenarios.\n",
        "8. What is a lambda function in Python and when is it typically used?\n",
        "- Lambda Function: A small, anonymous function defined using the lambda keyword. Lambda functions can have any number of arguments but can only have one expression. They are typically used for simple operations where a full function definition is unnecessary."
      ],
      "metadata": {
        "id": "qDIw4BbbD-Ic"
      }
    },
    {
      "cell_type": "code",
      "source": [
        "# Lambda function to add two numbers\n",
        "add_lambda = lambda a, b: a + b\n",
        "print(add_lambda(2, 3))\n",
        "\n",
        "# Lambda function used with sorted()\n",
        "my_list = [(1, 'b'), (3, 'a'), (2, 'c')]\n",
        "sorted_list = sorted(my_list, key=lambda item: item[0])\n",
        "print(sorted_list)"
      ],
      "metadata": {
        "colab": {
          "base_uri": "https://localhost:8080/"
        },
        "id": "lcf3KDx9EQx-",
        "outputId": "abf345ec-0971-4ab2-b9ed-381448e6f8ea"
      },
      "execution_count": null,
      "outputs": [
        {
          "output_type": "stream",
          "name": "stdout",
          "text": [
            "5\n",
            "[(1, 'b'), (2, 'c'), (3, 'a')]\n"
          ]
        }
      ]
    },
    {
      "cell_type": "markdown",
      "source": [
        "9. Explain the purpose and usage of the map() function in Python.\n",
        "- The map() function applies a given function to all items of an iterable (like a list) and returns an iterator that yields the results."
      ],
      "metadata": {
        "id": "3ebWBTlpEWoJ"
      }
    },
    {
      "cell_type": "code",
      "source": [
        "def square(x):\n",
        "  return x * x\n",
        "\n",
        "numbers = [1, 2, 3, 4, 5]\n",
        "\n",
        "# Using map() to square each number\n",
        "squared_numbers_iterator = map(square, numbers)\n",
        "\n",
        "# Converting the iterator to a list to see the results\n",
        "squared_numbers_list = list(squared_numbers_iterator)\n",
        "print(squared_numbers_list)\n",
        "\n",
        "# Using map() with a lambda function\n",
        "doubled_numbers_iterator = map(lambda x: x * 2, numbers)\n",
        "doubled_numbers_list = list(doubled_numbers_iterator)\n",
        "print(doubled_numbers_list)"
      ],
      "metadata": {
        "colab": {
          "base_uri": "https://localhost:8080/"
        },
        "id": "yb1oY3yXEo8Z",
        "outputId": "7206a9ad-299d-44f9-f9fe-5baadc087200"
      },
      "execution_count": null,
      "outputs": [
        {
          "output_type": "stream",
          "name": "stdout",
          "text": [
            "[1, 4, 9, 16, 25]\n",
            "[2, 4, 6, 8, 10]\n"
          ]
        }
      ]
    },
    {
      "cell_type": "markdown",
      "source": [
        "10. What is the difference between map(), reduce(), and filter() functions in Python?\n",
        "- map(function, iterable):\n",
        "\n",
        "- Applies a function to each item in an iterable and returns an iterator of the results. It transforms each element individually.\n",
        "\n",
        "- filter(function, iterable):\n",
        "\n",
        " Filters elements from an iterable based on a function that returns True or False. It returns an iterator containing only the elements for which the function returned True.\n",
        "\n",
        "- reduce(function, iterable):\n",
        "\n",
        " (from the functools module) Applies a function cumulatively to the items of an iterable, from left to right, so as to reduce the iterable to a single value."
      ],
      "metadata": {
        "id": "MRFRNk47Ev8J"
      }
    },
    {
      "cell_type": "code",
      "source": [
        "from functools import reduce\n",
        "\n",
        "numbers = [1, 2, 3, 4, 5]\n",
        "\n",
        "# Using filter() to get even numbers\n",
        "even_numbers_iterator = filter(lambda x: x % 2 == 0, numbers)\n",
        "even_numbers_list = list(even_numbers_iterator)\n",
        "print(even_numbers_list)\n",
        "\n",
        "# Using reduce() to calculate the sum of numbers\n",
        "sum_of_numbers = reduce(lambda x, y: x + y, numbers)\n",
        "print(sum_of_numbers)\n",
        "\n",
        "# Using map() (already shown in the previous example)"
      ],
      "metadata": {
        "colab": {
          "base_uri": "https://localhost:8080/"
        },
        "id": "69FGj1iWFCkF",
        "outputId": "ac43a726-1ae7-4305-8b50-eed328869d37"
      },
      "execution_count": null,
      "outputs": [
        {
          "output_type": "stream",
          "name": "stdout",
          "text": [
            "[2, 4]\n",
            "15\n"
          ]
        }
      ]
    },
    {
      "cell_type": "markdown",
      "source": [
        "11.Using pen & Paper write the internal mechanism for sum operation using reduce function on this givenlist:[47,11,42,13];"
      ],
      "metadata": {
        "id": "_d12pMsIG9Au"
      }
    },
    {
      "cell_type": "markdown",
      "source": [
        "![WhatsApp Image 2025-08-16 at 9.46.20 AM.jpeg](data:image/jpeg;base64,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)"
      ],
      "metadata": {
        "id": "nQskfN6CGqls"
      }
    },
    {
      "cell_type": "markdown",
      "source": [
        "Functions Practical Questions And Answers"
      ],
      "metadata": {
        "id": "89GoTaD2HOUe"
      }
    },
    {
      "cell_type": "code",
      "source": [
        "#1. Write a Python function that takes a list of numbers as input and returns the sum of all even numbers in the list.\n",
        "\n",
        "def sum_of_even_numbers(numbers_list):\n",
        "  \"\"\"\n",
        "  Calculates the sum of all even numbers in a list.\n",
        "\n",
        "  Args:\n",
        "    numbers_list: A list of numbers.\n",
        "\n",
        "  Returns:\n",
        "    The sum of all even numbers in the list.\n",
        "  \"\"\"\n",
        "  even_sum = 0\n",
        "  for number in numbers_list:\n",
        "    if number % 2 == 0:\n",
        "      even_sum += number\n",
        "  return even_sum\n",
        "\n",
        "# Example usage:\n",
        "my_list = [1, 2, 3, 4, 5, 6, 7, 8, 9, 10]\n",
        "even_sum_result = sum_of_even_numbers(my_list)\n",
        "print(f\"The sum of even numbers in the list is: {even_sum_result}\")"
      ],
      "metadata": {
        "colab": {
          "base_uri": "https://localhost:8080/"
        },
        "id": "z7az7fqLHfCw",
        "outputId": "a3618b46-bd82-46d2-82b2-08212ca5bb19"
      },
      "execution_count": 14,
      "outputs": [
        {
          "output_type": "stream",
          "name": "stdout",
          "text": [
            "The sum of even numbers in the list is: 30\n"
          ]
        }
      ]
    },
    {
      "cell_type": "code",
      "source": [
        "#2. Create a Python function that accepts a string and returns the reverse of that string.\n",
        "\n",
        "def reverse_string(input_string):\n",
        "  \"\"\"\n",
        "  Reverses a given string.\n",
        "\n",
        "  Args:\n",
        "    input_string: The string to be reversed.\n",
        "\n",
        "  Returns:\n",
        "    The reversed string.\n",
        "  \"\"\"\n",
        "  return input_string[::-1]\n",
        "\n",
        "# Example usage:\n",
        "my_string = \"hello\"\n",
        "reversed_string_result = reverse_string(my_string)\n",
        "print(f\"The reversed string of '{my_string}' is: {reversed_string_result}\")\n",
        "\n",
        "my_string_2 = \"Python\"\n",
        "reversed_string_result_2 = reverse_string(my_string_2)\n",
        "print(f\"The reversed string of '{my_string_2}' is: {reversed_string_result_2}\")"
      ],
      "metadata": {
        "colab": {
          "base_uri": "https://localhost:8080/"
        },
        "id": "Zt8lj-tFHktF",
        "outputId": "94e8214f-5334-4eb4-dbe6-9c4bbbee14da"
      },
      "execution_count": 15,
      "outputs": [
        {
          "output_type": "stream",
          "name": "stdout",
          "text": [
            "The reversed string of 'hello' is: olleh\n",
            "The reversed string of 'Python' is: nohtyP\n"
          ]
        }
      ]
    },
    {
      "cell_type": "code",
      "source": [
        "#3. Implement a Python function that takes a list of integers and returns a new list containing the squares of each number.\n",
        "\n",
        "def square_numbers(numbers_list):\n",
        "  \"\"\"\n",
        "  Squares each number in a list and returns a new list.\n",
        "\n",
        "  Args:\n",
        "    numbers_list: A list of integers.\n",
        "\n",
        "  Returns:\n",
        "    A new list containing the squares of each number.\n",
        "  \"\"\"\n",
        "  squared_list = []\n",
        "  for number in numbers_list:\n",
        "    squared_list.append(number ** 2)\n",
        "  return squared_list\n",
        "\n",
        "  # Example usage:\n",
        "my_list = [1, 2, 3, 4, 5]\n",
        "squared_numbers_result = square_numbers(my_list)\n",
        "print(f\"The original list is: {my_list}\")\n",
        "print(f\"The list with squared numbers is: {squared_numbers_result}\")\n",
        ""
      ],
      "metadata": {
        "colab": {
          "base_uri": "https://localhost:8080/"
        },
        "id": "N2ZlnwsTHm9q",
        "outputId": "89d7c23a-109f-4a7c-bb13-626d9420a571"
      },
      "execution_count": 19,
      "outputs": [
        {
          "output_type": "stream",
          "name": "stdout",
          "text": [
            "The original list is: [1, 2, 3, 4, 5]\n",
            "The list with squared numbers is: [1, 4, 9, 16, 25]\n"
          ]
        }
      ]
    },
    {
      "cell_type": "code",
      "source": [
        "#4. Write a Python function that checks if a given number is prime or not from 1 to 200.\n",
        "\n",
        "def is_prime(num):\n",
        "  \"\"\"\n",
        "  Checks if a number is prime.\n",
        "\n",
        "  Args:\n",
        "    num: The number to check.\n",
        "\n",
        "  Returns:\n",
        "    True if the number is prime, False otherwise.\n",
        "  \"\"\"\n",
        "  if num <= 1:\n",
        "    return False\n",
        "  for i in range(2, int(num**0.5) + 1):\n",
        "    if num % i == 0:\n",
        "      return False\n",
        "  return True\n",
        "print(\"Prime numbers from 1 to 200:\")\n",
        "for number in range(1, 201):\n",
        "  if is_prime(number):\n",
        "    print(number)\n",
        ""
      ],
      "metadata": {
        "colab": {
          "base_uri": "https://localhost:8080/"
        },
        "id": "VJdAQK2vH4sc",
        "outputId": "96e6dcdc-2ebb-42b1-fea4-217f8c0716ae"
      },
      "execution_count": 20,
      "outputs": [
        {
          "output_type": "stream",
          "name": "stdout",
          "text": [
            "Prime numbers from 1 to 200:\n",
            "2\n",
            "3\n",
            "5\n",
            "7\n",
            "11\n",
            "13\n",
            "17\n",
            "19\n",
            "23\n",
            "29\n",
            "31\n",
            "37\n",
            "41\n",
            "43\n",
            "47\n",
            "53\n",
            "59\n",
            "61\n",
            "67\n",
            "71\n",
            "73\n",
            "79\n",
            "83\n",
            "89\n",
            "97\n",
            "101\n",
            "103\n",
            "107\n",
            "109\n",
            "113\n",
            "127\n",
            "131\n",
            "137\n",
            "139\n",
            "149\n",
            "151\n",
            "157\n",
            "163\n",
            "167\n",
            "173\n",
            "179\n",
            "181\n",
            "191\n",
            "193\n",
            "197\n",
            "199\n"
          ]
        }
      ]
    },
    {
      "cell_type": "code",
      "source": [
        "#5. Create an iterator class in Python that generates the Fibonacci sequence up to a specified number of terms.\n",
        "\n",
        "class FibonacciIterator:\n",
        "  \"\"\"\n",
        "  An iterator class that generates the Fibonacci sequence up to a specified number of terms.\n",
        "  \"\"\"\n",
        "  def __init__(self, num_terms):\n",
        "    self.num_terms = num_terms\n",
        "    self.count = 0\n",
        "    self.a = 0\n",
        "    self.b = 1\n",
        "\n",
        "  def __iter__(self):\n",
        "    return self\n",
        "\n",
        "  def __next__(self):\n",
        "    if self.count < self.num_terms:\n",
        "      if self.count == 0:\n",
        "        self.count += 1\n",
        "        return self.a\n",
        "      elif self.count == 1:\n",
        "        self.count += 1\n",
        "        return self.b\n",
        "      else:\n",
        "        next_fib = self.a + self.b\n",
        "        self.a = self.b\n",
        "        self.b = next_fib\n",
        "        self.count += 1\n",
        "        return next_fib\n",
        "    else:\n",
        "      raise StopIteration\n",
        "\n",
        "# Example usage:\n",
        "fib_iterator = FibonacciIterator(10)\n",
        "print(\"Fibonacci sequence up to 10 terms:\")\n",
        "for number in fib_iterator:\n",
        "  print(number)"
      ],
      "metadata": {
        "colab": {
          "base_uri": "https://localhost:8080/"
        },
        "id": "v1H4TPsnH9tC",
        "outputId": "93472bd1-6970-4c34-d734-4726a26c7d52"
      },
      "execution_count": 21,
      "outputs": [
        {
          "output_type": "stream",
          "name": "stdout",
          "text": [
            "Fibonacci sequence up to 10 terms:\n",
            "0\n",
            "1\n",
            "1\n",
            "2\n",
            "3\n",
            "5\n",
            "8\n",
            "13\n",
            "21\n",
            "34\n"
          ]
        }
      ]
    },
    {
      "cell_type": "code",
      "source": [
        "# 6. Write a generator function in Python that yields the powers of 2 up to a given exponent\n",
        "\n",
        "def powers_of_two(max_exponent):\n",
        "  \"\"\"\n",
        "  A generator function that yields powers of 2 up to a given exponent.\n",
        "\n",
        "  Args:\n",
        "    max_exponent: The maximum exponent for the powers of 2.\n",
        "\n",
        "  Yields:\n",
        "    The powers of 2 from 2^0 up to 2^max_exponent.\n",
        "  \"\"\"\n",
        "  for i in range(max_exponent + 1):\n",
        "    yield 2 ** i\n",
        "\n",
        "# Example usage:\n",
        "powers_gen = powers_of_two(5)\n",
        "print(\"Powers of 2 up to exponent 5:\")\n",
        "for power in powers_gen:\n",
        "  print(power)"
      ],
      "metadata": {
        "colab": {
          "base_uri": "https://localhost:8080/"
        },
        "id": "3avXloHNIKdO",
        "outputId": "6c55bca0-4a14-4272-9bdf-e0461967bbf5"
      },
      "execution_count": 22,
      "outputs": [
        {
          "output_type": "stream",
          "name": "stdout",
          "text": [
            "Powers of 2 up to exponent 5:\n",
            "1\n",
            "2\n",
            "4\n",
            "8\n",
            "16\n",
            "32\n"
          ]
        }
      ]
    },
    {
      "cell_type": "code",
      "source": [
        "#7. Implement a generator function that reads a file line by line and yields each line as a string\n",
        "\n",
        "def read_file_line_by_line(file_path):\n",
        "  \"\"\"\n",
        "  A generator function that reads a file line by line and yields each line.\n",
        "\n",
        "  Args:\n",
        "    file_path: The path to the file to read.\n",
        "\n",
        "  Yields:\n",
        "    Each line of the file as a string.\n",
        "  \"\"\"\n",
        "  try:\n",
        "    with open(file_path, 'r') as file:\n",
        "      for line in file:\n",
        "        yield line.strip() # Yield each line, removing leading/trailing whitespace\n",
        "  except FileNotFoundError:\n",
        "    print(f\"Error: File not found at {file_path}\")\n",
        "  except Exception as e:\n",
        "    print(f\"An error occurred: {e}\")\n",
        "\n",
        "# Example usage:\n",
        "# Create a dummy file for demonstration\n",
        "with open(\"my_example_file.txt\", \"w\") as f:\n",
        "    f.write(\"This is the first line.\\n\")\n",
        "    f.write(\"This is the second line.\\n\")\n",
        "    f.write(\"And this is the third line.\")\n",
        "\n",
        "print(\"Reading file line by line:\")\n",
        "for line in read_file_line_by_line(\"my_example_file.txt\"):\n",
        "  print(line)\n",
        "\n",
        "# Example with a non-existent file\n",
        "print(\"\\nAttempting to read a non-existent file:\")\n",
        "for line in read_file_line_by_line(\"non_existent_file.txt\"):\n",
        "    print(line)"
      ],
      "metadata": {
        "colab": {
          "base_uri": "https://localhost:8080/"
        },
        "id": "mdxx37O3IxrI",
        "outputId": "b3c133bb-addc-493c-fc74-03af8177b398"
      },
      "execution_count": 29,
      "outputs": [
        {
          "output_type": "stream",
          "name": "stdout",
          "text": [
            "Reading file line by line:\n",
            "This is the first line.\n",
            "This is the second line.\n",
            "And this is the third line.\n",
            "\n",
            "Attempting to read a non-existent file:\n",
            "Error: File not found at non_existent_file.txt\n"
          ]
        }
      ]
    },
    {
      "cell_type": "code",
      "source": [
        "#8. Use a lambda function in Python to sort a list of tuples based on the second element of each tuple.\n",
        "\n",
        "# List of tuples\n",
        "my_list = [(1, 'b'), (3, 'a'), (2, 'c'), (4, 'b')]\n",
        "\n",
        "# Sorting the list of tuples based on the second element using a lambda function\n",
        "sorted_list = sorted(my_list, key=lambda item: item[1])\n",
        "\n",
        "print(f\"Original list: {my_list}\")\n",
        "print(f\"Sorted list based on the second element: {sorted_list}\")"
      ],
      "metadata": {
        "colab": {
          "base_uri": "https://localhost:8080/"
        },
        "id": "8nWp2T5vI6jI",
        "outputId": "76736d0b-118f-4aba-daab-4232eeaf920a"
      },
      "execution_count": 30,
      "outputs": [
        {
          "output_type": "stream",
          "name": "stdout",
          "text": [
            "Original list: [(1, 'b'), (3, 'a'), (2, 'c'), (4, 'b')]\n",
            "Sorted list based on the second element: [(3, 'a'), (1, 'b'), (4, 'b'), (2, 'c')]\n"
          ]
        }
      ]
    },
    {
      "cell_type": "code",
      "source": [
        "#9. Write a Python program that uses `map()` to convert a list of temperatures from Celsius to Fahrenheit.\n",
        "\n",
        "def celsius_to_fahrenheit(celsius):\n",
        "  \"\"\"\n",
        "  Converts Celsius temperature to Fahrenheit.\n",
        "\n",
        "  Args:\n",
        "    celsius: Temperature in Celsius.\n",
        "\n",
        "  Returns:\n",
        "    Temperature in Fahrenheit.\n",
        "  \"\"\"\n",
        "  return (celsius * 9/5) + 32\n",
        "\n",
        "# List of temperatures in Celsius\n",
        "celsius_temperatures = [0, 10, 20, 30, 40, 100]\n",
        "\n",
        "# Using map() to convert Celsius to Fahrenheit\n",
        "fahrenheit_temperatures = list(map(celsius_to_fahrenheit, celsius_temperatures))\n",
        "\n",
        "print(f\"Celsius temperatures: {celsius_temperatures}\")\n",
        "print(f\"Fahrenheit temperatures: {fahrenheit_temperatures}\")"
      ],
      "metadata": {
        "colab": {
          "base_uri": "https://localhost:8080/"
        },
        "id": "9jlQwUP4JB3q",
        "outputId": "f33d1846-8450-4198-87a2-1b62235fd40f"
      },
      "execution_count": 33,
      "outputs": [
        {
          "output_type": "stream",
          "name": "stdout",
          "text": [
            "Celsius temperatures: [0, 10, 20, 30, 40, 100]\n",
            "Fahrenheit temperatures: [32.0, 50.0, 68.0, 86.0, 104.0, 212.0]\n"
          ]
        }
      ]
    },
    {
      "cell_type": "code",
      "source": [
        "#10. Create a Python program that uses `filter()` to remove all the vowels from a given string.\n",
        "\n",
        "def is_not_vowel(character):\n",
        "  \"\"\"\n",
        "  Checks if a character is not a vowel.\n",
        "\n",
        "  Args:\n",
        "    character: The character to check.\n",
        "\n",
        "  Returns:\n",
        "    True if the character is not a vowel, False otherwise.\n",
        "  \"\"\"\n",
        "  vowels = \"aeiouAEIOU\"\n",
        "  return character not in vowels\n",
        "\n",
        "# Given string\n",
        "my_string = \"Hello World\"\n",
        "\n",
        "# Using filter() to remove vowels\n",
        "filtered_characters = filter(is_not_vowel, my_string)\n",
        "\n",
        "# Joining the filtered characters back into a string\n",
        "string_without_vowels = \"\".join(filtered_characters)\n",
        "\n",
        "print(f\"Original string: {my_string}\")\n",
        "print(f\"String without vowels: {string_without_vowels}\")"
      ],
      "metadata": {
        "colab": {
          "base_uri": "https://localhost:8080/"
        },
        "id": "siQovpUEJU3J",
        "outputId": "2aefbc5a-8b18-4962-a4ed-e1090051133e"
      },
      "execution_count": 34,
      "outputs": [
        {
          "output_type": "stream",
          "name": "stdout",
          "text": [
            "Original string: Hello World\n",
            "String without vowels: Hll Wrld\n"
          ]
        }
      ]
    },
    {
      "cell_type": "code",
      "source": [
        "''' Imagine an accounting routine used in a book shop. It works on a list with sublists, which look like this:\n",
        "\n",
        "Order Number   Book Title and Author              Quantity  Price per Item\n",
        "34587          Learning Python, Mark Lutz            4          40.95\n",
        "98762          Programming Python, Mark Lutz         5          56.80\n",
        "77226          Head First Python, Paul Barry         3          32.95\n",
        "88112          Einführung in Python3, Bernd Klein    3          24.99\n",
        "\n",
        " Write a Python program, which returns a list with 2-tuples. Each tuple consists of the order number and the\n",
        "product of the price per item and the quantity. The product should be increased by 10,- € if the value of the\n",
        "order is smaller than 100,00 €.\n",
        "\n",
        " Write a Python program using lambda and map'''\n",
        "orders = [\n",
        "    [34587, \"Learning Python, Mark Lutz\", 4, 40.95],\n",
        "    [98762, \"Programming Python, Mark Lutz\", 5, 56.80],\n",
        "    [77226, \"Head First Python, Paul Barry\", 3, 32.95],\n",
        "    [88112, \"Einführung in Python3, Bernd Klein\", 3, 24.99]\n",
        "]\n",
        "\n",
        "# Function to calculate the order value and apply the bonus using lambda\n",
        "calculate_order_value = lambda order: (order[0], order[2] * order[3] + (10 if order[2] * order[3] < 100 else 0))\n",
        "\n",
        "# Using map to apply the lambda function to each order\n",
        "order_values = list(map(calculate_order_value, orders))\n",
        "\n",
        "print(order_values)"
      ],
      "metadata": {
        "colab": {
          "base_uri": "https://localhost:8080/"
        },
        "id": "WP2i_w1YJark",
        "outputId": "1bddcbc8-dc95-485a-c647-d69518043303"
      },
      "execution_count": 35,
      "outputs": [
        {
          "output_type": "stream",
          "name": "stdout",
          "text": [
            "[(34587, 163.8), (98762, 284.0), (77226, 108.85000000000001), (88112, 84.97)]\n"
          ]
        }
      ]
    },
    {
      "cell_type": "markdown",
      "source": [],
      "metadata": {
        "id": "O0F-gTYcHWHI"
      }
    }
  ]
}