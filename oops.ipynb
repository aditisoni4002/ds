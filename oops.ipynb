{
  "nbformat": 4,
  "nbformat_minor": 0,
  "metadata": {
    "colab": {
      "provenance": []
    },
    "kernelspec": {
      "name": "python3",
      "display_name": "Python 3"
    },
    "language_info": {
      "name": "python"
    }
  },
  "cells": [
    {
      "cell_type": "markdown",
      "source": [
        "OOPs Assingment Questions And Answers\n",
        "\n",
        "1.What is Object-Oriented Programming (OOP)?\n",
        "\n",
        "- OOP is a programming paradigm based on the concept of \"objects\".\n",
        "- Objects can contain data (attributes) and code (methods).\n",
        "- Key principles include Encapsulation, Abstraction, Inheritance, and Polymorphism.\n",
        "2.What is a class in OOP?\n",
        "\n",
        "- A class is a blueprint or template for creating objects.\n",
        "- It defines the attributes and methods that objects of that class will have.\n",
        "3.What is an object in OOP?\n",
        "\n",
        "- An object is an instance of a class.\n",
        "- It is a concrete entity created from the class blueprint with its own unique data.\n",
        "4.What is the difference between abstraction and encapsulation?\n",
        "\n",
        "- Encapsulation: Bundling data and methods within a single unit (object) and controlling access to the data.\n",
        "- Abstraction: Hiding complex implementation details and showing only essential features. Encapsulation helps achieve abstraction.\n",
        "5.What are dunder methods in Python?\n",
        "\n",
        "- Dunder methods (double underscore methods), also known as magic methods, are special methods in Python that have double underscores at the beginning and end of their names (e.g., __init__, __str__).\n",
        "- They are not typically called directly by the programmer but are invoked automatically by Python in response to certain operations or events.\n",
        "- They allow you to define how objects of your class behave with built-in Python operations and functions.\n",
        "6.Explain the concept of inheritance in OOP.\n",
        "\n",
        "- Inheritance is a mechanism that allows a new class (subclass or derived class) to inherit attributes and methods from an existing class (superclass or base class).\n",
        "- It promotes code reusability and establishes a hierarchical relationship between classes (is-a relationship).\n",
        "- Subclasses can override or extend the behavior of their superclass.\n",
        "7.What is polymorphism in OOP?\n",
        "\n",
        "- Polymorphism means \"many forms\". In OOP, it refers to the ability of objects of different classes to respond to the same method call in their own way.\n",
        "- It allows you to treat objects of different classes as objects of a common superclass, making code more flexible and generic.\n",
        "- In Python, polymorphism is often achieved through method overriding and duck typing.\n",
        "8.How is encapsulation achieved in Python?\n",
        "\n",
        "- Encapsulation in Python is achieved by bundling data and methods within a class.\n",
        "- While Python doesn't have strict access modifiers like public, private, or protected in the same way as some other languages, conventions and name mangling (using double underscores __ before an attribute name) are used to indicate that an attribute is intended to be private and should not be accessed directly from outside the class.\n",
        "9.What is a constructor in Python?\n",
        "\n",
        "- A constructor is a special method in a class that is automatically called when an object of the class is created.\n",
        "- In Python, the constructor is defined using the __init__ dunder method.\n",
        "- Its primary purpose is to initialize the object's attributes with values.\n",
        "10.What are class and static methods in Python?\n",
        "\n",
        "- Class Methods:\n",
        "\n",
        " Methods that are bound to the class and receive the class itself as the first argument, conventionally named cls. They are defined using the @classmethod decorator. They are often used for factory methods that create instances of the class.\n",
        "- Static Methods:\n",
        "\n",
        " Methods that are not bound to either the class or the instance. They do not receive the class or the instance as the first argument. They are defined using the @staticmethod decorator. They are essentially regular functions that are logically grouped within a class.\n",
        "11.What is method overloading in Python?\n",
        "\n",
        "- Method overloading is the ability to define multiple methods within the same class with the same name but with different parameters.\n",
        "- Python does not support method overloading in the traditional sense (based on the number or type of parameters). If you define multiple methods with the same name, the last one defined will override the previous ones.\n",
        "- However, you can achieve similar functionality using default arguments, variable-length arguments (*args, **kwargs), or by checking the type of arguments within the method.\n",
        "12.What is method overriding in OOP?\n",
        "\n",
        "- Method overriding is a feature of inheritance where a subclass provides a specific implementation for a method that is already defined in its superclass.\n",
        "- The method in the subclass has the same name, return type (though not strictly enforced in Python), and parameters as the method in the superclass.\n",
        "- This allows subclasses to provide their own specialized behavior for methods inherited from the superclass.\n",
        "13.What is a property decorator in Python?\n",
        "\n",
        "- The @property decorator is a built-in decorator in Python that provides a way to define methods in a class that can be accessed like attributes.\n",
        "- It allows you to define getter, setter, and deleter methods for an attribute, giving you more control over how the attribute is accessed and modified.\n",
        "- This is a way to implement the principle of encapsulation and provide controlled access to an object's data.\n",
        "14.Why is polymorphism important in OOP?\n"
      ],
      "metadata": {
        "id": "XF6SZ3nYwOTE"
      }
    },
    {
      "cell_type": "markdown",
      "source": [
        "- Polymorphism is important because it allows for more flexible, reusable, and maintainable code.\n",
        "- It enables you to write code that can work with objects of different types in a uniform way, reducing the need for conditional statements (if-elif-else) to handle different object types.\n",
        "- It makes it easier to extend the system by adding new classes without modifying existing code.\n",
        "15.What is an abstract class in Python?\n",
        "\n",
        "- An abstract class is a class that cannot be instantiated directly. It is designed to be a blueprint for other classes.\n",
        "- Abstract classes can contain abstract methods, which are methods declared in the abstract class but do not have an implementation. Subclasses must provide implementations for these abstract methods.\n",
        "- In Python, abstract classes are typically created using the ABC module (Abstract Base Classes) and the @abstractmethod decorator.\n",
        "16.What are the advantages of OOP?\n",
        "\n",
        "- Modularity:\n",
        "\n",
        " Code is organized into objects, making it easier to understand and manage.\n",
        "- Reusability:\n",
        "\n",
        " Inheritance allows for code reuse, reducing redundancy.\n",
        "- Flexibility:\n",
        "\n",
        " Polymorphism allows for more flexible and adaptable code.\n",
        "- Maintainability:\n",
        "\n",
        " Encapsulation and modularity make code easier to maintain and modify.\n",
        "- Abstraction:\n",
        "\n",
        " Hiding complexity simplifies the use of objects.\n",
        "17.What is multiple inheritance in Python?\n",
        "\n",
        "- Multiple inheritance is a feature where a class can inherit from more than one base class.\n",
        "- This allows a class to inherit attributes and methods from multiple sources.\n",
        "- While powerful, it can sometimes lead to complexities like the \"diamond problem\" (Method Resolution Order - MRO), which Python handles using a specific algorithm.\n",
        "18.What is the difference between a class variable and an instance variable?\n",
        "\n",
        "- Class Variable:\n",
        "\n",
        " A variable that is shared among all instances (objects) of a class. It is defined within the class but outside of any instance method.\n",
        "- Instance Variable:\n",
        "\n",
        " A variable that is unique to each instance (object) of a class. It is defined within the constructor (__init__) or other instance methods using self..\n",
        "19.Explain the purpose of __str__ and __repr__ methods in Python.\n",
        "\n",
        "- __str__:\n",
        "\n",
        " This method is used to provide a user-friendly string representation of an object. It is called by the str() built-in function and the print() function. The output is intended to be readable for the end-user.\n",
        "- __repr__:\n",
        "\n",
        " This method is used to provide an unambiguous string representation of an object, primarily for developers. It is called by the repr() built-in function and in the interactive interpreter when an object is evaluated. The output should ideally be a string that, if passed to eval(), would recreate the object. If __str__ is not defined, __repr__ is used as the fallback for str().\n",
        "20.What is the significance of the super() function in Python?\n",
        "\n",
        "- The super() function is used in a subclass to refer to the superclass (parent class).\n",
        "- It is commonly used to call methods or access attributes of the superclass, especially in the constructor (__init__) of the subclass to ensure that the superclass is properly initialized.\n",
        "- It is particularly useful in multiple inheritance to correctly call methods in the Method Resolution Order (MRO).\n",
        "21.What is the significance of the __del__ method in Python?\n",
        "\n",
        "- The __del__ method, also known as the destructor, is a special method that is called when an object is about to be destroyed or garbage collected.\n",
        "- It is typically used to perform cleanup operations, such as closing files or releasing resources.\n",
        "- However, the exact timing of when __del__ is called is not guaranteed due to Python's garbage collection, so it's often better to use context managers (with statement) or explicit cleanup methods for resource management.\n",
        "22.What is the difference between @staticmethod and @classmethod in Python?\n",
        "\n",
        "- @staticmethod:\n",
        "\n",
        " Does not receive the instance (self) or the class (cls) as the first argument. It behaves like a regular function but is part of the class's namespace. It cannot access or modify instance or class state.\n",
        "- @classmethod:\n",
        "\n",
        " Receives the class (cls) as the first argument. It can access and modify class state (class variables). It is often used for factory methods.\n",
        "23.How does polymorphism work in Python with inheritance?\n",
        "\n",
        "- Polymorphism with inheritance in Python is achieved through method overriding.\n",
        "- If a superclass and a subclass both have a method with the same name, and you call that method on an object, Python will execute the method defined in the object's class (the most specific implementation).\n",
        "- This allows you to write code that operates on a collection of objects of different classes that share a common superclass, and the appropriate method implementation will be called for each object.\n",
        "24.What is method chaining in Python OOP?\n",
        "\n",
        "- Method chaining is a programming technique where multiple method calls are made on the same object in a single statement.\n",
        "- This is possible when each method returns the object itself (return self).\n",
        "- It can make code more concise and readable, especially when performing a series of operations on an object.\n",
        "25.What is the purpose of the __call__ method in Python?\n",
        "\n",
        "- The __call__ method allows an object to be called like a function.\n",
        "- If a class defines a __call__ method, you can create an instance of the class and then call that instance as if it were a function.\n",
        "- This can be useful for creating objects that represent functions or for creating callable objects that maintain state.\n",
        "\n"
      ],
      "metadata": {
        "id": "w9k8pw1X0BD7"
      }
    },
    {
      "cell_type": "markdown",
      "source": [
        "OOPs Practical Questions And Answers\n",
        "\n",
        "\n",
        "1.Create a parent class Animal with a method speak() that prints a generic message. Create a child class Dog that overrides the speak() method to print \"Bark!\""
      ],
      "metadata": {
        "id": "e5q6sQpL4yZA"
      }
    },
    {
      "cell_type": "code",
      "source": [
        "# Parent class\n",
        "class Animal:\n",
        "    def speak(self):\n",
        "        print(\"Generic animal sound\")\n",
        "\n",
        "# Child class inheriting from Animal\n",
        "class Dog(Animal):\n",
        "    # Override the speak() method\n",
        "    def speak(self):\n",
        "        print(\"Bark!\")\n",
        "\n",
        "# Create instances and call the speak method\n",
        "animal = Animal()\n",
        "dog = Dog()\n",
        "\n",
        "animal.speak()  # Output: Generic animal sound\n",
        "dog.speak()     # Output: Bark!\n",
        "\n"
      ],
      "metadata": {
        "colab": {
          "base_uri": "https://localhost:8080/"
        },
        "id": "7GQ2j-zz46-L",
        "outputId": "1d43e3b0-a288-4ea7-9cc2-4ae7804f2dee"
      },
      "execution_count": null,
      "outputs": [
        {
          "output_type": "stream",
          "name": "stdout",
          "text": [
            "Generic animal sound\n",
            "Bark!\n"
          ]
        }
      ]
    },
    {
      "cell_type": "markdown",
      "source": [
        "2.Write a program to create an abstract class Shape with a method area(). Derive classes Circle and Rectangle from it and implement the area() method in both."
      ],
      "metadata": {
        "id": "7yIvJWaS5FRX"
      }
    },
    {
      "cell_type": "code",
      "source": [
        "from abc import ABC, abstractmethod\n",
        "\n",
        "# Abstract base class\n",
        "class Shape(ABC):\n",
        "    @abstractmethod\n",
        "    def area(self):\n",
        "        pass\n",
        "\n",
        "# Derived class Circle\n",
        "class Circle(Shape):\n",
        "    def __init__(self, radius):\n",
        "        self.radius = radius\n",
        "\n",
        "    def area(self):\n",
        "        return 3.14 * self.radius * self.radius\n",
        "\n",
        "# Derived class Rectangle\n",
        "class Rectangle(Shape):\n",
        "    def __init__(self, width, height):\n",
        "        self.width = width\n",
        "        self.height = height\n",
        "\n",
        "    def area(self):\n",
        "        return self.width * self.height\n",
        "\n",
        "# Create instances and calculate area\n",
        "# shape = Shape() # This would raise a TypeError because Shape is abstract\n",
        "circle = Circle(5)\n",
        "rectangle = Rectangle(4, 6)\n",
        "\n",
        "print(f\"Area of Circle: {circle.area()}\")\n",
        "print(f\"Area of Rectangle: {rectangle.area()}\")"
      ],
      "metadata": {
        "colab": {
          "base_uri": "https://localhost:8080/"
        },
        "id": "gh1SrwWh5cN1",
        "outputId": "23d8832c-1c34-4608-bce3-d5c2855e1244"
      },
      "execution_count": null,
      "outputs": [
        {
          "output_type": "stream",
          "name": "stdout",
          "text": [
            "Area of Circle: 78.5\n",
            "Area of Rectangle: 24\n"
          ]
        }
      ]
    },
    {
      "cell_type": "markdown",
      "source": [
        "3.Implement a multi-level inheritance scenario where a class Vehicle has an attribute type. Derive a class Car and further derive a class ElectricCar that adds a battery attribute."
      ],
      "metadata": {
        "id": "vhMdSovN5kcJ"
      }
    },
    {
      "cell_type": "code",
      "source": [
        "# Base class\n",
        "class Vehicle:\n",
        "    def __init__(self, vehicle_type):\n",
        "        self.vehicle_type = vehicle_type\n",
        "\n",
        "    def display_type(self):\n",
        "        print(f\"Vehicle Type: {self.vehicle_type}\")\n",
        "\n",
        "# Derived class from Vehicle\n",
        "class Car(Vehicle):\n",
        "    def __init__(self, vehicle_type, model):\n",
        "        super().__init__(vehicle_type)\n",
        "        self.model = model\n",
        "\n",
        "    def display_model(self):\n",
        "        print(f\"Car Model: {self.model}\")\n",
        "\n",
        "# Derived class from Car (multi-level inheritance)\n",
        "class ElectricCar(Car):\n",
        "    def __init__(self, vehicle_type, model, battery_capacity):\n",
        "        super().__init__(vehicle_type, model)\n",
        "        self.battery_capacity = battery_capacity\n",
        "\n",
        "    def display_battery(self):\n",
        "        print(f\"Battery Capacity: {self.battery_capacity} kWh\")\n",
        "\n",
        "# Create an instance of the ElectricCar\n",
        "my_electric_car = ElectricCar(\"Car\", \"Tesla Model S\", 100)\n",
        "\n",
        "# Access methods from all levels of inheritance\n",
        "my_electric_car.display_type()\n",
        "my_electric_car.display_model()\n",
        "my_electric_car.display_battery()"
      ],
      "metadata": {
        "colab": {
          "base_uri": "https://localhost:8080/"
        },
        "id": "zestfIna5rXM",
        "outputId": "9d27dc95-91bc-4f75-80d9-984782f557b1"
      },
      "execution_count": null,
      "outputs": [
        {
          "output_type": "stream",
          "name": "stdout",
          "text": [
            "Vehicle Type: Car\n",
            "Car Model: Tesla Model S\n",
            "Battery Capacity: 100 kWh\n"
          ]
        }
      ]
    },
    {
      "cell_type": "markdown",
      "source": [
        "4.Demonstrate polymorphism by creating a base class Bird with a method fly(). Create two derived classes Sparrow and Penguin that override the fly() method."
      ],
      "metadata": {
        "id": "UWaj93n057r9"
      }
    },
    {
      "cell_type": "code",
      "source": [
        "# Base class\n",
        "class Bird:\n",
        "    def fly(self):\n",
        "        print(\"Most birds can fly\")\n",
        "\n",
        "# Derived class 1\n",
        "class Sparrow(Bird):\n",
        "    def fly(self):\n",
        "        print(\"Sparrows can fly short distances\")\n",
        "\n",
        "# Derived class 2\n",
        "class Penguin(Bird):\n",
        "    def fly(self):\n",
        "        print(\"Penguins cannot fly, but they can swim!\")\n",
        "\n",
        "# Create instances of the derived classes\n",
        "sparrow = Sparrow()\n",
        "penguin = Penguin()\n",
        "\n",
        "# Call the same method on different objects\n",
        "sparrow.fly()  # Output depends on the object's class\n",
        "penguin.fly()  # Output depends on the object's class"
      ],
      "metadata": {
        "colab": {
          "base_uri": "https://localhost:8080/"
        },
        "id": "OCz0vrgM6ChN",
        "outputId": "bc1adbe8-c87a-4005-a6f8-498d6eb14517"
      },
      "execution_count": null,
      "outputs": [
        {
          "output_type": "stream",
          "name": "stdout",
          "text": [
            "Sparrows can fly short distances\n",
            "Penguins cannot fly, but they can swim!\n"
          ]
        }
      ]
    },
    {
      "cell_type": "markdown",
      "source": [
        "5.Write a program to demonstrate encapsulation by creating a class BankAccount with private attributes balance and methods to deposit, withdraw, and check balance"
      ],
      "metadata": {
        "id": "YkjphiSI6LWL"
      }
    },
    {
      "cell_type": "code",
      "source": [
        "class BankAccount:\n",
        "    def __init__(self, initial_balance=0):\n",
        "        # Private attribute using name mangling\n",
        "        self.__balance = initial_balance\n",
        "\n",
        "    def deposit(self, amount):\n",
        "        if amount > 0:\n",
        "            self.__balance += amount\n",
        "            print(f\"Deposited: ${amount}. New balance: ${self.__balance}\")\n",
        "        else:\n",
        "            print(\"Deposit amount must be positive.\")\n",
        "\n",
        "    def withdraw(self, amount):\n",
        "        if amount > 0:\n",
        "            if self.__balance >= amount:\n",
        "                self.__balance -= amount\n",
        "                print(f\"Withdrew: ${amount}. New balance: ${self.__balance}\")\n",
        "            else:\n",
        "                print(\"Insufficient funds.\")\n",
        "        else:\n",
        "            print(\"Withdrawal amount must be positive.\")\n",
        "\n",
        "    def get_balance(self):\n",
        "        # Getter method to access the private attribute\n",
        "        return self.__balance\n",
        "\n",
        "# Create a bank account instance\n",
        "account = BankAccount(1000)\n",
        "\n",
        "# Deposit and withdraw\n",
        "account.deposit(500)\n",
        "account.withdraw(200)\n",
        "account.withdraw(1500) # Insufficient funds\n",
        "\n",
        "# Check balance using the getter method\n",
        "print(f\"Current balance: ${account.get_balance()}\")\n",
        "\n",
        "# Trying to access the private attribute directly will result in an AttributeError (name mangling)\n",
        "# print(account.__balance) # This would raise an AttributeError"
      ],
      "metadata": {
        "colab": {
          "base_uri": "https://localhost:8080/"
        },
        "id": "bpzGSERI6RMk",
        "outputId": "3e56ad9a-db58-4b7a-94ce-558b81488618"
      },
      "execution_count": null,
      "outputs": [
        {
          "output_type": "stream",
          "name": "stdout",
          "text": [
            "Deposited: $500. New balance: $1500\n",
            "Withdrew: $200. New balance: $1300\n",
            "Insufficient funds.\n",
            "Current balance: $1300\n"
          ]
        }
      ]
    },
    {
      "cell_type": "markdown",
      "source": [
        "6.Demonstrate runtime polymorphism using a method play() in a base class Instrument. Derive classes Guitar and Piano that implement their own version of play()"
      ],
      "metadata": {
        "id": "5wW56K086kI2"
      }
    },
    {
      "cell_type": "code",
      "source": [
        "# Base class\n",
        "class Instrument:\n",
        "    def play(self):\n",
        "        print(\"Playing a generic instrument sound\")\n",
        "\n",
        "# Derived class 1\n",
        "class Guitar(Instrument):\n",
        "    def play(self):\n",
        "        print(\"Strumming the guitar\")\n",
        "\n",
        "# Derived class 2\n",
        "class Piano(Instrument):\n",
        "    def play(self):\n",
        "        print(\"Playing the piano keys\")\n",
        "\n",
        "# Function that takes an Instrument object and calls its play method\n",
        "def make_music(instrument):\n",
        "    instrument.play()\n",
        "\n",
        "# Create instances of the derived classes\n",
        "guitar = Guitar()\n",
        "piano = Piano()\n",
        "\n",
        "# Call the make_music function with different instrument objects\n",
        "make_music(guitar)\n",
        "make_music(piano)"
      ],
      "metadata": {
        "colab": {
          "base_uri": "https://localhost:8080/"
        },
        "id": "BMuXlYXn6qmv",
        "outputId": "46a908c8-aac9-4503-8ba8-af8f2e525150"
      },
      "execution_count": null,
      "outputs": [
        {
          "output_type": "stream",
          "name": "stdout",
          "text": [
            "Strumming the guitar\n",
            "Playing the piano keys\n"
          ]
        }
      ]
    },
    {
      "cell_type": "markdown",
      "source": [
        "7.Create a class MathOperations with a class method add_numbers() to add two numbers and a static method subtract_numbers() to subtract two numbers."
      ],
      "metadata": {
        "id": "lU3nX1BK60Uj"
      }
    },
    {
      "cell_type": "code",
      "source": [
        "class MathOperations:\n",
        "    # Class method\n",
        "    @classmethod\n",
        "    def add_numbers(cls, x, y):\n",
        "        # This method could potentially access or modify class state if needed\n",
        "        print(f\"Using class method to add {x} and {y}\")\n",
        "        return x + y\n",
        "\n",
        "    # Static method\n",
        "    @staticmethod\n",
        "    def subtract_numbers(x, y):\n",
        "        # This method does not access instance or class state\n",
        "        print(f\"Using static method to subtract {y} from {x}\")\n",
        "        return x - y\n",
        "\n",
        "# Call the class method using the class name\n",
        "add_result_class = MathOperations.add_numbers(10, 5)\n",
        "print(f\"Addition result (class method): {add_result_class}\")\n",
        "\n",
        "# Call the static method using the class name\n",
        "subtract_result_static = MathOperations.subtract_numbers(20, 15)\n",
        "print(f\"Subtraction result (static method): {subtract_result_static}\")\n",
        "\n",
        "# You can also call class and static methods using an instance,\n",
        "# but it's more conventional to use the class name.\n",
        "math_instance = MathOperations()\n",
        "add_result_instance = math_instance.add_numbers(12, 15)\n",
        "print(f\"Addition result (instance call to class method): {add_result_instance}\")\n",
        "\n",
        "subtract_result_instance = math_instance.subtract_numbers(30, 17)\n",
        "print(f\"Subtraction result (instance call to static method): {subtract_result_instance}\")"
      ],
      "metadata": {
        "colab": {
          "base_uri": "https://localhost:8080/"
        },
        "id": "uAtKpXBI66hw",
        "outputId": "63bf2b9f-8f69-40c0-fb0a-eec9ca8c57c0"
      },
      "execution_count": null,
      "outputs": [
        {
          "output_type": "stream",
          "name": "stdout",
          "text": [
            "Using class method to add 10 and 5\n",
            "Addition result (class method): 15\n",
            "Using static method to subtract 15 from 20\n",
            "Subtraction result (static method): 5\n",
            "Using class method to add 12 and 15\n",
            "Addition result (instance call to class method): 27\n",
            "Using static method to subtract 17 from 30\n",
            "Subtraction result (instance call to static method): 13\n"
          ]
        }
      ]
    },
    {
      "cell_type": "markdown",
      "source": [
        "8.Implement a class Person with a class method to count the total number of persons created."
      ],
      "metadata": {
        "id": "Rl__GIqX7CNs"
      }
    },
    {
      "cell_type": "code",
      "source": [
        "class Person:\n",
        "    # Class variable to count the number of instances\n",
        "    number_of_persons = 0\n",
        "\n",
        "    def __init__(self, name):\n",
        "        self.name = name\n",
        "        # Increment the class variable when a new instance is created\n",
        "        Person.number_of_persons += 1\n",
        "\n",
        "    @classmethod\n",
        "    def count_persons(cls):\n",
        "        # Class method to return the total number of instances\n",
        "        return cls.number_of_persons\n",
        "\n",
        "# Create instances of the Person class\n",
        "person1 = Person(\"Alice\")\n",
        "person2 = Person(\"Bob\")\n",
        "person3 = Person(\"Charlie\")\n",
        "\n",
        "# Call the class method to get the count\n",
        "print(f\"Total number of persons created: {Person.count_persons()}\")\n",
        "\n",
        "# You can also call it using an instance, but using the class name is more common\n",
        "print(f\"Total number of persons created (via instance): {person1.count_persons()}\")"
      ],
      "metadata": {
        "colab": {
          "base_uri": "https://localhost:8080/"
        },
        "id": "HMX5L4Bj7JbZ",
        "outputId": "c7cbd015-35cd-4aed-db11-d376d49f4b63"
      },
      "execution_count": null,
      "outputs": [
        {
          "output_type": "stream",
          "name": "stdout",
          "text": [
            "Total number of persons created: 3\n",
            "Total number of persons created (via instance): 3\n"
          ]
        }
      ]
    },
    {
      "cell_type": "markdown",
      "source": [
        "9.Write a class Fraction with attributes numerator and denominator. Override the str method to display the fraction as \"numerator/denominator\"."
      ],
      "metadata": {
        "id": "N86p-VWb7Rpc"
      }
    },
    {
      "cell_type": "code",
      "source": [
        "class Fraction:\n",
        "    def __init__(self, numerator, denominator):\n",
        "        self.numerator = numerator\n",
        "        self.denominator = denominator\n",
        "\n",
        "    def __str__(self):\n",
        "        # Override the string representation\n",
        "        return f\"{self.numerator}/{self.denominator}\"\n",
        "\n",
        "# Create a Fraction object\n",
        "my_fraction = Fraction(3, 4)\n",
        "\n",
        "# When you print the object, the __str__ method is called\n",
        "print(my_fraction)"
      ],
      "metadata": {
        "colab": {
          "base_uri": "https://localhost:8080/"
        },
        "id": "J_E8bBKv7Yxv",
        "outputId": "be045ec1-1e68-4d64-ddf6-78a0127b9801"
      },
      "execution_count": null,
      "outputs": [
        {
          "output_type": "stream",
          "name": "stdout",
          "text": [
            "3/4\n"
          ]
        }
      ]
    },
    {
      "cell_type": "markdown",
      "source": [
        "10.Demonstrate operator overloading by creating a class Vector and overriding the add method to add two vectors."
      ],
      "metadata": {
        "id": "rChjYTR_7jbL"
      }
    },
    {
      "cell_type": "code",
      "source": [
        "class Vector:\n",
        "    def __init__(self, x, y):\n",
        "        self.x = x\n",
        "        self.y = y\n",
        "\n",
        "    def __str__(self):\n",
        "        return f\"Vector({self.x}, {self.y})\"\n",
        "\n",
        "    def __add__(self, other):\n",
        "        # Override the addition operator (+)\n",
        "        if isinstance(other, Vector):\n",
        "            return Vector(self.x + other.x, self.y + other.y)\n",
        "        else:\n",
        "            raise TypeError(\"Can only add a Vector object to another Vector object.\")\n",
        "\n",
        "# Create two Vector objects\n",
        "vector1 = Vector(2, 3)\n",
        "vector2 = Vector(4, 5)\n",
        "\n",
        "# Add the two vectors using the overloaded '+' operator\n",
        "vector3 = vector1 + vector2\n",
        "\n",
        "# Print the result (uses the __str__ method)\n",
        "print(f\"Vector 1: {vector1}\")\n",
        "print(f\"Vector 2: {vector2}\")\n",
        "print(f\"Vector 1 + Vector 2 = {vector3}\")"
      ],
      "metadata": {
        "colab": {
          "base_uri": "https://localhost:8080/"
        },
        "id": "xagd8Fas7nfJ",
        "outputId": "f5488176-af47-4b39-e080-006eabc639b0"
      },
      "execution_count": null,
      "outputs": [
        {
          "output_type": "stream",
          "name": "stdout",
          "text": [
            "Vector 1: Vector(2, 3)\n",
            "Vector 2: Vector(4, 5)\n",
            "Vector 1 + Vector 2 = Vector(6, 8)\n"
          ]
        }
      ]
    },
    {
      "cell_type": "markdown",
      "source": [
        "11.Create a class Person with attributes name and age. Add a method greet() that prints \"Hello, my name is {name} and I am {age} years old.\""
      ],
      "metadata": {
        "id": "ZA1E8HS57wHP"
      }
    },
    {
      "cell_type": "code",
      "source": [
        "class Person:\n",
        "    def __init__(self, name, age):\n",
        "        self.name = name\n",
        "        self.age = age\n",
        "\n",
        "    def greet(self):\n",
        "        print(f\"Hello, my name is {self.name} and I am {self.age} years old.\")\n",
        "\n",
        "# Create an instance of the Person class\n",
        "person1 = Person(\"Aditi\", 21)\n",
        "\n",
        "# Call the greet method\n",
        "person1.greet()"
      ],
      "metadata": {
        "colab": {
          "base_uri": "https://localhost:8080/"
        },
        "id": "sTCkl_gX71gT",
        "outputId": "7f857bb7-5fa2-4d0d-81b2-f3d02503847c"
      },
      "execution_count": null,
      "outputs": [
        {
          "output_type": "stream",
          "name": "stdout",
          "text": [
            "Hello, my name is Aditi and I am 21 years old.\n"
          ]
        }
      ]
    },
    {
      "cell_type": "markdown",
      "source": [
        "12.Implement a class Student with attributes name and grades. Create a method average_grade() to compute the average of the grades."
      ],
      "metadata": {
        "id": "rVh6aHE38E-c"
      }
    },
    {
      "cell_type": "code",
      "source": [
        "class Student:\n",
        "    def __init__(self, name, grades):\n",
        "        self.name = name\n",
        "        self.grades = grades\n",
        "\n",
        "    def average_grade(self):\n",
        "        if not self.grades:\n",
        "            return 0\n",
        "        return sum(self.grades) / len(self.grades)\n",
        "\n",
        "# Create a Student instance\n",
        "student1 = Student(\"Bob\", [85, 90, 78, 92])\n",
        "student2 = Student(\"Alice\", []) # Student with no grades\n",
        "\n",
        "# Calculate and print average grades\n",
        "average1 = student1.average_grade()\n",
        "print(f\"{student1.name}'s average grade: {average1}\")\n",
        "\n",
        "average2 = student2.average_grade()\n",
        "print(f\"{student2.name}'s average grade: {average2}\")"
      ],
      "metadata": {
        "colab": {
          "base_uri": "https://localhost:8080/"
        },
        "id": "DuxB9F6N8Owg",
        "outputId": "93a38651-904a-4fb7-f7e1-1fe6d70e8fcf"
      },
      "execution_count": null,
      "outputs": [
        {
          "output_type": "stream",
          "name": "stdout",
          "text": [
            "Bob's average grade: 86.25\n",
            "Alice's average grade: 0\n"
          ]
        }
      ]
    },
    {
      "cell_type": "markdown",
      "source": [
        "13.Create a class Rectangle with methods set_dimensions() to set the dimensions and area() to calculate the area."
      ],
      "metadata": {
        "id": "0qC4zI2q8XWg"
      }
    },
    {
      "cell_type": "code",
      "source": [
        "class Rectangle:\n",
        "    def __init__(self):\n",
        "        self.width = 0\n",
        "        self.height = 0\n",
        "\n",
        "    def set_dimensions(self, width, height):\n",
        "        if width > 0 and height > 0:\n",
        "            self.width = width\n",
        "            self.height = height\n",
        "        else:\n",
        "            print(\"Dimensions must be positive values.\")\n",
        "\n",
        "    def area(self):\n",
        "        return self.width * self.height\n",
        "\n",
        "# Create a Rectangle object\n",
        "rectangle = Rectangle()\n",
        "\n",
        "# Set dimensions and calculate area\n",
        "rectangle.set_dimensions(10, 5)\n",
        "rectangle_area = rectangle.area()\n",
        "print(f\"The area of the rectangle is: {rectangle_area}\")\n",
        "\n",
        "# Try setting invalid dimensions\n",
        "rectangle.set_dimensions(-2, 7)"
      ],
      "metadata": {
        "colab": {
          "base_uri": "https://localhost:8080/"
        },
        "id": "9Cq6qq6b8ddr",
        "outputId": "a1c3dfad-3c1e-4ce6-f095-8528543d8ba5"
      },
      "execution_count": null,
      "outputs": [
        {
          "output_type": "stream",
          "name": "stdout",
          "text": [
            "The area of the rectangle is: 50\n",
            "Dimensions must be positive values.\n"
          ]
        }
      ]
    },
    {
      "cell_type": "markdown",
      "source": [
        "14.Create a class Employee with a method calculate_salary() that computes the salary based on hours worked and hourly rate. Create a derived class Manager that adds a bonus to the salary."
      ],
      "metadata": {
        "id": "Q6IpNZJS8j6J"
      }
    },
    {
      "cell_type": "code",
      "source": [
        "class Employee:\n",
        "    def __init__(self, hours_worked, hourly_rate):\n",
        "        self.hours_worked = hours_worked\n",
        "        self.hourly_rate = hourly_rate\n",
        "\n",
        "    def calculate_salary(self):\n",
        "        return self.hours_worked * self.hourly_rate\n",
        "\n",
        "class Manager(Employee):\n",
        "    def __init__(self, hours_worked, hourly_rate, bonus):\n",
        "        super().__init__(hours_worked, hourly_rate)\n",
        "        self.bonus = bonus\n",
        "\n",
        "    def calculate_salary(self):\n",
        "        # Calculate base salary using the parent class method\n",
        "        base_salary = super().calculate_salary()\n",
        "        # Add the bonus\n",
        "        return base_salary + self.bonus\n",
        "\n",
        "# Create instances\n",
        "employee = Employee(40, 20)\n",
        "manager = Manager(40, 20, 500)\n",
        "\n",
        "# Calculate and print salaries\n",
        "employee_salary = employee.calculate_salary()\n",
        "print(f\"Employee salary: ${employee_salary}\")\n",
        "\n",
        "manager_salary = manager.calculate_salary()\n",
        "print(f\"Manager salary: ${manager_salary}\")"
      ],
      "metadata": {
        "colab": {
          "base_uri": "https://localhost:8080/"
        },
        "id": "M1DT4aaE8rQB",
        "outputId": "03d1d8df-5115-4e05-bce7-5aa3b291f734"
      },
      "execution_count": null,
      "outputs": [
        {
          "output_type": "stream",
          "name": "stdout",
          "text": [
            "Employee salary: $800\n",
            "Manager salary: $1300\n"
          ]
        }
      ]
    },
    {
      "cell_type": "markdown",
      "source": [
        "15.Create a class Product with attributes name, price, and quantity. Implement a method total_price() that calculates the total price of the product."
      ],
      "metadata": {
        "id": "NUsOQYFn8zmY"
      }
    },
    {
      "cell_type": "code",
      "source": [
        "class Product:\n",
        "    def __init__(self, name, price, quantity):\n",
        "        self.name = name\n",
        "        self.price = price\n",
        "        self.quantity = quantity\n",
        "\n",
        "    def total_price(self):\n",
        "        return self.price * self.quantity\n",
        "\n",
        "# Create a Product instance\n",
        "product1 = Product(\"Laptop\", 1200, 2)\n",
        "\n",
        "# Calculate and print the total price\n",
        "total_cost = product1.total_price()\n",
        "print(f\"The total price for {product1.name} is ${total_cost}\")"
      ],
      "metadata": {
        "colab": {
          "base_uri": "https://localhost:8080/"
        },
        "id": "qYtzSD1q848X",
        "outputId": "fbc0afcf-3539-44a3-bc57-0b7db5899e9c"
      },
      "execution_count": null,
      "outputs": [
        {
          "output_type": "stream",
          "name": "stdout",
          "text": [
            "The total price for Laptop is $2400\n"
          ]
        }
      ]
    },
    {
      "cell_type": "markdown",
      "source": [
        "16.Create a class Animal with an abstract method sound(). Create two derived classes Cow and Sheep that implement the sound() method."
      ],
      "metadata": {
        "id": "MJC8qvt69AQI"
      }
    },
    {
      "cell_type": "code",
      "source": [
        "from abc import ABC, abstractmethod\n",
        "\n",
        "# Abstract base class\n",
        "class Animal(ABC):\n",
        "    @abstractmethod\n",
        "    def sound(self):\n",
        "        pass\n",
        "\n",
        "# Derived class 1\n",
        "class Cow(Animal):\n",
        "    def sound(self):\n",
        "        return \"Moo!\"\n",
        "\n",
        "# Derived class 2\n",
        "class Sheep(Animal):\n",
        "    def sound(self):\n",
        "        return \"Baa!\"\n",
        "\n",
        "# Create instances of the derived classes\n",
        "cow = Cow()\n",
        "sheep = Sheep()\n",
        "\n",
        "# Call the sound method on the instances\n",
        "print(f\"The cow says: {cow.sound()}\")\n",
        "print(f\"The sheep says: {sheep.sound()}\")\n",
        "\n",
        "# Trying to instantiate the abstract class directly would raise a TypeError\n",
        "# generic_animal = Animal()"
      ],
      "metadata": {
        "colab": {
          "base_uri": "https://localhost:8080/"
        },
        "id": "ghd1s-qC9GW9",
        "outputId": "ff145d3f-0191-4ba3-81fd-f32e9be27d97"
      },
      "execution_count": null,
      "outputs": [
        {
          "output_type": "stream",
          "name": "stdout",
          "text": [
            "The cow says: Moo!\n",
            "The sheep says: Baa!\n"
          ]
        }
      ]
    },
    {
      "cell_type": "markdown",
      "source": [
        "17.Create a class Book with attributes title, author, and year_published. Add a method get_book_info() that returns a formatted string with the book's details."
      ],
      "metadata": {
        "id": "YPXGse719NUA"
      }
    },
    {
      "cell_type": "code",
      "source": [
        "class Book:\n",
        "    def __init__(self, title, author, year_published):\n",
        "        self.title = title\n",
        "        self.author = author\n",
        "        self.year_published = year_published\n",
        "\n",
        "    def get_book_info(self):\n",
        "        return f\"Title: {self.title}, Author: {self.author}, Year Published: {self.year_published}\"\n",
        "\n",
        "# Create a Book instance\n",
        "my_book = Book(\"The Hitchhiker's Guide to the Galaxy\", \"Douglas Adams\", 1979)\n",
        "\n",
        "# Get and print the book information\n",
        "book_info = my_book.get_book_info()\n",
        "print(book_info)"
      ],
      "metadata": {
        "colab": {
          "base_uri": "https://localhost:8080/"
        },
        "id": "P86axUj69V35",
        "outputId": "e8ce9c4a-8861-45c0-bb6c-868dd5a59b97"
      },
      "execution_count": null,
      "outputs": [
        {
          "output_type": "stream",
          "name": "stdout",
          "text": [
            "Title: The Hitchhiker's Guide to the Galaxy, Author: Douglas Adams, Year Published: 1979\n"
          ]
        }
      ]
    },
    {
      "cell_type": "markdown",
      "source": [
        "18.Create a class House with attributes address and price. Create a derived class Mansion that adds an attribute number_of_rooms."
      ],
      "metadata": {
        "id": "IDd1Lq859cjU"
      }
    },
    {
      "cell_type": "code",
      "source": [
        "class House:\n",
        "    def __init__(self, address, price):\n",
        "        self.address = address\n",
        "        self.price = price\n",
        "\n",
        "    def get_house_info(self):\n",
        "        return f\"Address: {self.address}, Price: ${self.price}\"\n",
        "\n",
        "class Mansion(House):\n",
        "    def __init__(self, address, price, number_of_rooms):\n",
        "        super().__init__(address, price)\n",
        "        self.number_of_rooms = number_of_rooms\n",
        "\n",
        "    def get_mansion_info(self):\n",
        "        # You can also include information from the parent class\n",
        "        return f\"{super().get_house_info()}, Number of Rooms: {self.number_of_rooms}\"\n",
        "\n",
        "# Create instances\n",
        "my_house = House(\"123 Main St\", 300000)\n",
        "my_mansion = Mansion(\"456 Estate Dr\", 5000000, 20)\n",
        "\n",
        "# Get and print information\n",
        "print(my_house.get_house_info())\n",
        "print(my_mansion.get_mansion_info())"
      ],
      "metadata": {
        "id": "nDX9pdsW9iPF",
        "outputId": "eeed440c-e606-4e3d-dda8-c76c6af04ab7",
        "colab": {
          "base_uri": "https://localhost:8080/"
        }
      },
      "execution_count": null,
      "outputs": [
        {
          "output_type": "stream",
          "name": "stdout",
          "text": [
            "Address: 123 Main St, Price: $300000\n",
            "Address: 456 Estate Dr, Price: $5000000, Number of Rooms: 20\n"
          ]
        }
      ]
    }
  ]
}